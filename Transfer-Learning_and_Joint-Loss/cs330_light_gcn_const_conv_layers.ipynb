{
  "cells": [
    {
      "cell_type": "markdown",
      "metadata": {
        "id": "ktxdLosxtgZd",
        "pycharm": {
          "name": "#%% md\n"
        }
      },
      "source": [
        "# Light GCN Notebook"
      ]
    },
    {
      "cell_type": "markdown",
      "metadata": {
        "id": "WjmfT8zVf1yt"
      },
      "source": [
        "## 0. Env Preparation"
      ]
    },
    {
      "cell_type": "markdown",
      "metadata": {
        "id": "OqljF7Lmf1yu"
      },
      "source": [
        "### 0.1 Install Packages"
      ]
    },
    {
      "cell_type": "code",
      "execution_count": null,
      "metadata": {
        "execution": {
          "iopub.execute_input": "2022-09-28T04:05:08.204448Z",
          "iopub.status.busy": "2022-09-28T04:05:08.204127Z",
          "iopub.status.idle": "2022-09-28T04:05:08.208400Z",
          "shell.execute_reply": "2022-09-28T04:05:08.207456Z",
          "shell.execute_reply.started": "2022-09-28T04:05:08.204422Z"
        },
        "id": "-Cvheinkf1yu"
      },
      "outputs": [],
      "source": [
        "# !pip install ipywidgets\n",
        "# !pip install -q torch-scatter -f https://data.pyg.org/whl/torch-1.12.0+cu116.html\n",
        "# !pip install -q torch-sparse -f https://data.pyg.org/whl/torch-1.12.0+cu116.html\n",
        "# !pip install -q git+https://github.com/pyg-team/pytorch_geometric.git"
      ]
    },
    {
      "cell_type": "code",
      "source": [
        "!pip install pyg-lib torch-scatter torch-sparse -f https://data.pyg.org/whl/torch-1.13.0+cu116.html\n",
        "!pip install torch-geometric"
      ],
      "metadata": {
        "id": "D7TyfNKXYYA1"
      },
      "execution_count": null,
      "outputs": []
    },
    {
      "cell_type": "markdown",
      "metadata": {
        "id": "v3WDfWS2f1yv"
      },
      "source": [
        "### 0.2 Import Packages"
      ]
    },
    {
      "cell_type": "code",
      "execution_count": null,
      "metadata": {
        "execution": {
          "iopub.execute_input": "2022-09-28T04:05:16.755256Z",
          "iopub.status.busy": "2022-09-28T04:05:16.754944Z",
          "iopub.status.idle": "2022-09-28T04:05:19.559673Z",
          "shell.execute_reply": "2022-09-28T04:05:19.558872Z",
          "shell.execute_reply.started": "2022-09-28T04:05:16.755232Z"
        },
        "id": "Y9fonQcxt3do",
        "pycharm": {
          "name": "#%%\n"
        }
      },
      "outputs": [],
      "source": [
        "import random\n",
        "import matplotlib.pyplot as plt\n",
        "import numpy as np\n",
        "import pandas as pd\n",
        "\n",
        "import torch\n",
        "import torch.nn as nn\n",
        "import torch.nn.functional as F\n",
        "from torch.utils.data import DataLoader\n",
        "from torch.utils.data import Dataset\n",
        "\n",
        "import torch_geometric\n",
        "from torch_geometric.nn.conv import MessagePassing\n",
        "from torch_geometric.utils import degree\n",
        "\n",
        "from tqdm.notebook import tqdm\n",
        "from sklearn.model_selection import train_test_split"
      ]
    },
    {
      "cell_type": "markdown",
      "metadata": {
        "id": "nzLUutf7uNAS",
        "pycharm": {
          "name": "#%% md\n"
        }
      },
      "source": [
        "Check our environment"
      ]
    },
    {
      "cell_type": "code",
      "execution_count": null,
      "metadata": {
        "execution": {
          "iopub.execute_input": "2022-09-28T04:05:24.540932Z",
          "iopub.status.busy": "2022-09-28T04:05:24.540440Z",
          "iopub.status.idle": "2022-09-28T04:05:24.551815Z",
          "shell.execute_reply": "2022-09-28T04:05:24.550941Z",
          "shell.execute_reply.started": "2022-09-28T04:05:24.540906Z"
        },
        "id": "J_CDy1cbuF4_",
        "pycharm": {
          "name": "#%%\n"
        }
      },
      "outputs": [],
      "source": [
        "torch_geometric.__version__"
      ]
    },
    {
      "cell_type": "markdown",
      "metadata": {
        "id": "kQDvc6usf1yw"
      },
      "source": [
        "Set device for torch"
      ]
    },
    {
      "cell_type": "code",
      "execution_count": null,
      "metadata": {
        "execution": {
          "iopub.execute_input": "2022-09-28T04:05:28.094312Z",
          "iopub.status.busy": "2022-09-28T04:05:28.093946Z",
          "iopub.status.idle": "2022-09-28T04:05:28.098528Z",
          "shell.execute_reply": "2022-09-28T04:05:28.097844Z",
          "shell.execute_reply.started": "2022-09-28T04:05:28.094287Z"
        },
        "id": "b4pKT5jUt3pz",
        "pycharm": {
          "name": "#%%\n"
        }
      },
      "outputs": [],
      "source": [
        "device = torch.device(\"cuda:0\" if torch.cuda.is_available() else \"cpu\")"
      ]
    },
    {
      "cell_type": "markdown",
      "metadata": {
        "id": "JFdaSRE5f1yw"
      },
      "source": [
        "## 1. Data Processing"
      ]
    },
    {
      "cell_type": "markdown",
      "metadata": {
        "id": "eYnQc9UH07Fg",
        "pycharm": {
          "name": "#%% md\n"
        }
      },
      "source": [
        "### 1.1 Read Data\n"
      ]
    },
    {
      "cell_type": "markdown",
      "source": [
        "In order to access the Google Drive, first go to: https://drive.google.com/drive/folders/1TzyQFgm_szZMo6d6RyrwPE4Hkc_0I0og?usp=sharing, then go to \"Shared with me\", right click on the folder and select \"Add a shortcut to Drive\"."
      ],
      "metadata": {
        "id": "wxmrfdLlLZQc"
      }
    },
    {
      "cell_type": "code",
      "source": [
        "from google.colab import drive\n",
        "drive.mount('/content/drive', force_remount=True)"
      ],
      "metadata": {
        "id": "2nKt-DY7QCSU"
      },
      "execution_count": null,
      "outputs": []
    },
    {
      "cell_type": "code",
      "execution_count": null,
      "metadata": {
        "execution": {
          "iopub.execute_input": "2022-09-28T04:19:00.774144Z",
          "iopub.status.busy": "2022-09-28T04:19:00.773432Z",
          "iopub.status.idle": "2022-09-28T04:19:03.716543Z",
          "shell.execute_reply": "2022-09-28T04:19:03.715618Z",
          "shell.execute_reply.started": "2022-09-28T04:19:00.774118Z"
        },
        "pycharm": {
          "name": "#%%\n"
        },
        "id": "uGkiEskGf1yx"
      },
      "outputs": [],
      "source": [
        "columns_name = ['place_index', 'user_index', 'rating']\n",
        "review_df = pd.read_csv(\"/content/drive/MyDrive/cities/Los_angeles/train.tsv\", sep=\"\\t\")[columns_name].dropna().astype(int)"
      ]
    },
    {
      "cell_type": "markdown",
      "metadata": {
        "id": "bxw2vEInf1yx"
      },
      "source": [
        "### 1.2 Number of User and Place"
      ]
    },
    {
      "cell_type": "code",
      "execution_count": null,
      "metadata": {
        "id": "A0zgWkQAf1yx"
      },
      "outputs": [],
      "source": [
        "max_user_id = review_df['user_index'].max()\n",
        "max_place_id = review_df['place_index'].max()\n",
        "print(max_user_id)\n",
        "print(max_place_id)"
      ]
    },
    {
      "cell_type": "code",
      "source": [
        "max_node_id = max_user_id + max_place_id + 1 # since place_id starts from 0\n",
        "print(max_node_id)"
      ],
      "metadata": {
        "id": "sHAliWim8k7h"
      },
      "execution_count": null,
      "outputs": []
    },
    {
      "cell_type": "markdown",
      "metadata": {
        "id": "CrPQNnUjf1yx"
      },
      "source": [
        "### 1.3 Split Data"
      ]
    },
    {
      "cell_type": "code",
      "execution_count": null,
      "metadata": {
        "execution": {
          "iopub.execute_input": "2022-09-28T04:19:08.987210Z",
          "iopub.status.busy": "2022-09-28T04:19:08.986887Z",
          "iopub.status.idle": "2022-09-28T04:19:09.175583Z",
          "shell.execute_reply": "2022-09-28T04:19:09.174815Z",
          "shell.execute_reply.started": "2022-09-28T04:19:08.987185Z"
        },
        "id": "SWwvL8JOmrT4",
        "pycharm": {
          "name": "#%%\n"
        }
      },
      "outputs": [],
      "source": [
        "# It is possible some users or restaurants in test do not exist in \n",
        "# train after this split.\n",
        "# Will need to retrain the model with combined train+test after picking\n",
        "# the best model structure\n",
        "train, test = train_test_split(review_df.values, test_size=0.1)\n",
        "train_df = pd.DataFrame(train, columns=review_df.columns)\n",
        "test_df = pd.DataFrame(test, columns=review_df.columns)"
      ]
    },
    {
      "cell_type": "markdown",
      "metadata": {
        "id": "j6GlUta4f1yx"
      },
      "source": [
        "### 1.4 Get distribution of different ratings"
      ]
    },
    {
      "cell_type": "code",
      "execution_count": null,
      "metadata": {
        "id": "FdgnxzLWf1yy"
      },
      "outputs": [],
      "source": [
        "# Weights will be used to normalize loss function\n",
        "def get_weights(df):\n",
        "    rating_counts = np.array([len(df[df['rating'] == i]) for i in [1, 2, 3, 4, 5]])\n",
        "    inverse_count = 1 / rating_counts\n",
        "    norm = np.linalg.norm(inverse_count)\n",
        "    normalized_inverse_count = inverse_count / norm\n",
        "\n",
        "    return normalized_inverse_count\n",
        "\n",
        "weights = get_weights(train_df)\n",
        "print(weights)"
      ]
    },
    {
      "cell_type": "code",
      "execution_count": null,
      "metadata": {
        "id": "Q_ens4xxf1yy"
      },
      "outputs": [],
      "source": [
        "train_df['weight'] = train_df['rating'].map(lambda val: weights[int(val)-1])\n",
        "test_df['weight'] = test_df['rating'].map(lambda val: weights[int(val)-1])"
      ]
    },
    {
      "cell_type": "code",
      "execution_count": null,
      "metadata": {
        "id": "ubeyUQ3Vf1yy"
      },
      "outputs": [],
      "source": [
        "# Check data snippet\n",
        "train_df.head(5)"
      ]
    },
    {
      "cell_type": "markdown",
      "metadata": {
        "id": "XNoblY5kxlv_",
        "pycharm": {
          "name": "#%% md\n"
        }
      },
      "source": [
        "### 1.5 Dataset and Dataloader"
      ]
    },
    {
      "cell_type": "code",
      "execution_count": null,
      "metadata": {
        "execution": {
          "iopub.execute_input": "2022-09-28T04:29:41.367161Z",
          "iopub.status.busy": "2022-09-28T04:29:41.366316Z",
          "iopub.status.idle": "2022-09-28T04:29:41.372542Z",
          "shell.execute_reply": "2022-09-28T04:29:41.371543Z",
          "shell.execute_reply.started": "2022-09-28T04:29:41.367132Z"
        },
        "id": "NQRGy-CJnOkg",
        "pycharm": {
          "name": "#%%\n"
        }
      },
      "outputs": [],
      "source": [
        "class MyDataset(Dataset):\n",
        "    def __init__(self, data):\n",
        "        self.data = data.to_numpy()\n",
        "        \n",
        "    def __getitem__(self, index):\n",
        "        return self.data[index, 0].astype(np.compat.long), \\\n",
        "            self.data[index, 1].astype(np.compat.long), \\\n",
        "            self.data[index, 2:3].astype(np.float32), \\\n",
        "            self.data[index, 3]\n",
        "    \n",
        "    def __len__(self):\n",
        "        return len(self.data)"
      ]
    },
    {
      "cell_type": "markdown",
      "metadata": {
        "id": "vjHZg1Eu-MKs",
        "pycharm": {
          "name": "#%% md\n"
        }
      },
      "source": [
        "## 2. Graph Construction"
      ]
    },
    {
      "cell_type": "code",
      "execution_count": null,
      "metadata": {
        "execution": {
          "iopub.execute_input": "2022-09-28T04:29:45.034832Z",
          "iopub.status.busy": "2022-09-28T04:29:45.034193Z",
          "iopub.status.idle": "2022-09-28T04:29:45.088226Z",
          "shell.execute_reply": "2022-09-28T04:29:45.087347Z",
          "shell.execute_reply.started": "2022-09-28T04:29:45.034807Z"
        },
        "id": "O3BkGyV9pkce",
        "pycharm": {
          "name": "#%%\n"
        }
      },
      "outputs": [],
      "source": [
        "u_t = torch.LongTensor(train_df.user_index.to_numpy())\n",
        "p_t = torch.LongTensor(train_df.place_index.to_numpy()) + max_user_id + 1\n",
        "\n",
        "train_edge_index = torch.stack((torch.cat([u_t, p_t]),torch.cat([p_t, u_t]))).to(device)"
      ]
    },
    {
      "cell_type": "code",
      "execution_count": null,
      "metadata": {
        "id": "uGlRLHR_f1yz"
      },
      "outputs": [],
      "source": [
        "train_df['place_index'] = train_df['place_index'] + max_user_id + 1\n",
        "test_df['place_index'] = test_df['place_index'] + max_user_id + 1\n",
        "# assert that there's no index overlapping\n",
        "intersection = set(train_df['place_index'].unique()).intersection(set(train_df['user_index'].unique()))\n",
        "assert len(intersection) == 0\n",
        "\n",
        "intersection = set(test_df['place_index'].unique()).intersection(set(test_df['user_index'].unique()))\n",
        "assert len(intersection) == 0\n",
        "\n",
        "train_dataset = MyDataset(train_df)\n",
        "test_dataset = MyDataset(test_df)"
      ]
    },
    {
      "cell_type": "markdown",
      "metadata": {
        "id": "2ys1P7mtcr54",
        "pycharm": {
          "name": "#%% md\n"
        }
      },
      "source": [
        "## 3. Model Architecture"
      ]
    },
    {
      "cell_type": "markdown",
      "metadata": {
        "id": "49WD8SryyUds",
        "pycharm": {
          "name": "#%% md\n"
        }
      },
      "source": [
        "### 3.1 LightGCN Convolutional Layer"
      ]
    },
    {
      "cell_type": "code",
      "execution_count": null,
      "metadata": {
        "execution": {
          "iopub.execute_input": "2022-09-28T04:29:49.256735Z",
          "iopub.status.busy": "2022-09-28T04:29:49.256047Z",
          "iopub.status.idle": "2022-09-28T04:29:49.262307Z",
          "shell.execute_reply": "2022-09-28T04:29:49.261567Z",
          "shell.execute_reply.started": "2022-09-28T04:29:49.256707Z"
        },
        "id": "-aTMoHisNIh_",
        "pycharm": {
          "name": "#%%\n"
        }
      },
      "outputs": [],
      "source": [
        "class LightGCNConv(MessagePassing):\n",
        "    def __init__(self, **kwargs):\n",
        "        super().__init__(aggr='add')\n",
        "\n",
        "    def forward(self, x, edge_index, num_nodes):\n",
        "        # Compute normalization\n",
        "        from_, to_ = edge_index\n",
        "        deg = degree(to_, x.size(0), dtype=x.dtype)\n",
        "        deg_inv_sqrt = deg.pow(-0.5)\n",
        "        deg_inv_sqrt[deg_inv_sqrt == float('inf')] = 0\n",
        "        norm = deg_inv_sqrt[from_] * deg_inv_sqrt[to_]\n",
        "        # Start propagating messages (no update after aggregation)\n",
        "        return self.propagate(edge_index, x=x, norm=norm)\n",
        "\n",
        "    def message(self, x_j, norm):\n",
        "        return norm.view(-1, 1) * x_j"
      ]
    },
    {
      "cell_type": "code",
      "execution_count": null,
      "metadata": {
        "id": "B2o-hw1of1y0"
      },
      "outputs": [],
      "source": [
        "# Initialize node embeddings as one-hot embeddings\n",
        "test_x = torch.Tensor(np.eye(5))\n",
        "\n",
        "# Construct edges\n",
        "test_edge_index = torch.LongTensor(np.array([\n",
        "  [0, 0, 1, 1, 2, 3, 3, 4],\n",
        "  [2, 3, 3, 4, 0, 0, 1, 1]\n",
        "]))\n",
        "\n",
        "# Check out the result of passing the embeddings through our Graph Convolutional Network\n",
        "LightGCNConv()(test_x, test_edge_index, 5)"
      ]
    },
    {
      "cell_type": "markdown",
      "metadata": {
        "id": "I2tW9FJFqNjn",
        "pycharm": {
          "name": "#%% md\n"
        }
      },
      "source": [
        "### 3.2 Recommender System GNN"
      ]
    },
    {
      "cell_type": "code",
      "execution_count": null,
      "metadata": {
        "execution": {
          "iopub.execute_input": "2022-09-28T04:29:55.128388Z",
          "iopub.status.busy": "2022-09-28T04:29:55.128015Z",
          "iopub.status.idle": "2022-09-28T04:29:55.137444Z",
          "shell.execute_reply": "2022-09-28T04:29:55.136459Z",
          "shell.execute_reply.started": "2022-09-28T04:29:55.128356Z"
        },
        "id": "nT5LTkI8Ml1c",
        "pycharm": {
          "name": "#%%\n"
        }
      },
      "outputs": [],
      "source": [
        "class LightGCN(nn.Module):\n",
        "    def __init__(self, latent_dim, num_layers, max_index):\n",
        "        super(LightGCN, self).__init__()\n",
        "        self.embedding = nn.Embedding(max_index, latent_dim)\n",
        "        self.convs = nn.ModuleList(LightGCNConv() for _ in range(num_layers))\n",
        "        self.init_parameters()\n",
        "        self.nn = nn.Linear(2*latent_dim, 1)\n",
        "\n",
        "        self.max_index = max_index\n",
        "\n",
        "    def init_parameters(self):\n",
        "        nn.init.normal_(self.embedding.weight, std=0.1) \n",
        "\n",
        "    def forward(self, edge_index):\n",
        "        emb0 = self.embedding.weight\n",
        "        embs = [emb0]\n",
        "        emb = emb0\n",
        "        for conv in self.convs:\n",
        "            emb = conv(x=emb, edge_index=edge_index, num_nodes=self.max_index)\n",
        "            embs.append(emb)\n",
        "\n",
        "        out = torch.mean(torch.stack(embs, dim=0), dim=0)\n",
        "        return emb0, out\n",
        "    \n",
        "    def pred(self, users, items, embeddings):\n",
        "        user_emb = embeddings[users]\n",
        "        item_emb = embeddings[items]\n",
        "        x = torch.cat((user_emb,item_emb), 1)\n",
        "        x = self.nn(x)\n",
        "        return x"
      ]
    },
    {
      "cell_type": "markdown",
      "metadata": {
        "id": "_qOC3fF9m6cH",
        "pycharm": {
          "name": "#%% md\n"
        }
      },
      "source": [
        "## 4. Train and evaluate models\n",
        "\n",
        "Set Parameters"
      ]
    },
    {
      "cell_type": "code",
      "execution_count": null,
      "metadata": {
        "execution": {
          "iopub.execute_input": "2022-09-28T04:29:59.336359Z",
          "iopub.status.busy": "2022-09-28T04:29:59.335998Z",
          "iopub.status.idle": "2022-09-28T04:29:59.340947Z",
          "shell.execute_reply": "2022-09-28T04:29:59.340144Z",
          "shell.execute_reply.started": "2022-09-28T04:29:59.336319Z"
        },
        "id": "MZtgfxxIm5nL",
        "pycharm": {
          "name": "#%%\n"
        }
      },
      "outputs": [],
      "source": [
        "latent_dim = 64\n",
        "n_layers = 3\n",
        "\n",
        "EPOCHS = 5\n",
        "BATCH_SIZE = 100\n",
        "DECAY = 0.0001\n",
        "LR = 0.0005\n",
        "K = 2"
      ]
    },
    {
      "cell_type": "markdown",
      "metadata": {
        "id": "gmN76R38f1y0"
      },
      "source": [
        "Set Model"
      ]
    },
    {
      "cell_type": "code",
      "execution_count": null,
      "metadata": {
        "execution": {
          "iopub.execute_input": "2022-09-28T04:30:01.615743Z",
          "iopub.status.busy": "2022-09-28T04:30:01.615380Z",
          "iopub.status.idle": "2022-09-28T04:30:01.696745Z",
          "shell.execute_reply": "2022-09-28T04:30:01.695686Z",
          "shell.execute_reply.started": "2022-09-28T04:30:01.615718Z"
        },
        "id": "JgZrgHUnf1y0"
      },
      "outputs": [],
      "source": [
        "lightgcn = LightGCN(\n",
        "    latent_dim=latent_dim,\n",
        "    num_layers=n_layers,\n",
        "    max_index=max_node_id + 1\n",
        ")\n",
        "lightgcn = lightgcn.to(device)"
      ]
    },
    {
      "cell_type": "markdown",
      "metadata": {
        "id": "XpTCkdS6f1y0"
      },
      "source": [
        "Set Train Function"
      ]
    },
    {
      "cell_type": "code",
      "execution_count": null,
      "metadata": {
        "execution": {
          "iopub.execute_input": "2022-09-28T04:32:32.252808Z",
          "iopub.status.busy": "2022-09-28T04:32:32.252472Z",
          "iopub.status.idle": "2022-09-28T04:32:32.259687Z",
          "shell.execute_reply": "2022-09-28T04:32:32.258563Z",
          "shell.execute_reply.started": "2022-09-28T04:32:32.252782Z"
        },
        "pycharm": {
          "name": "#%%\n"
        },
        "id": "kHSIkLMuf1y0"
      },
      "outputs": [],
      "source": [
        "def get_testset_loss(model, testset, loss_fn, embeddings):\n",
        "    loss_list = []\n",
        "    model.eval()\n",
        "    with torch.no_grad():\n",
        "        for items, users, ratings, weights in DataLoader(testset, batch_size=BATCH_SIZE):\n",
        "            users, items, ratings, weights = users.to(device), items.to(device), ratings.to(device), weights.to(device)\n",
        "            pred = model.pred(users, items, embeddings)\n",
        "            loss = loss_fn(pred, ratings, weights)\n",
        "            \n",
        "            loss_list.append(loss.item())\n",
        "            \n",
        "    return sum(loss_list) / len(loss_list)\n",
        "\n",
        "\n",
        "def train(model, optimizer, train_dataset, test_dataset, train_edge_index, loss_fn):\n",
        "    loss_list_epoch = []\n",
        "    valid_loss_list_epoch = []\n",
        "    train_dataloader = DataLoader(train_dataset, batch_size=BATCH_SIZE)\n",
        "    min_valid_loss = None\n",
        "    min_loss_model = None\n",
        "    for epoch in tqdm(range(EPOCHS)):\n",
        "        n_batch = int(len(train_dataset)/BATCH_SIZE)\n",
        "        loss_list = []\n",
        "        model.train()\n",
        "        for items, users, ratings, weights in tqdm(train_dataloader):\n",
        "            optimizer.zero_grad()\n",
        "            users, items, ratings, weights = users.to(device), items.to(device), ratings.to(device), weights.to(device)\n",
        "            _, embeddings = model(train_edge_index)\n",
        "            pred = model.pred(users, items, embeddings)\n",
        "            loss = loss_fn(pred, ratings, weights)\n",
        "            loss.backward()\n",
        "            optimizer.step()\n",
        "            loss_list.append(loss.item())\n",
        "            \n",
        "        # evaluate on validation data\n",
        "        valid_loss = get_testset_loss(model, test_dataset, loss_fn, embeddings)\n",
        "        if min_valid_loss is None or valid_loss < min_valid_loss:\n",
        "            min_valid_loss = valid_loss\n",
        "            min_loss_model = torch.save(model.state_dict(), f\"epoch_{epoch}.ckpt\")\n",
        "            \n",
        "        valid_loss_list_epoch.append(round(valid_loss, 4))\n",
        "        loss_list_epoch.append(round(np.mean(loss_list),4))\n",
        "\n",
        "    return loss_list_epoch, valid_loss_list_epoch"
      ]
    },
    {
      "cell_type": "markdown",
      "metadata": {
        "id": "Z4xJSiBiznki",
        "pycharm": {
          "name": "#%% md\n"
        }
      },
      "source": [
        "Set Loss and Optimizer"
      ]
    },
    {
      "cell_type": "code",
      "execution_count": null,
      "metadata": {
        "execution": {
          "iopub.execute_input": "2022-09-28T04:34:12.752383Z",
          "iopub.status.busy": "2022-09-28T04:34:12.752022Z",
          "iopub.status.idle": "2022-09-28T04:34:12.757327Z",
          "shell.execute_reply": "2022-09-28T04:34:12.756348Z",
          "shell.execute_reply.started": "2022-09-28T04:34:12.752357Z"
        },
        "id": "eKBv9eXongux",
        "pycharm": {
          "name": "#%%\n"
        }
      },
      "outputs": [],
      "source": [
        "# Calculate weights of different labels and define weighted MSE loss\n",
        "def weighted_MSE(preds, targets, weights):\n",
        "    return (weights * (preds - targets) ** 2).mean()\n",
        "\n",
        "loss_function = weighted_MSE\n",
        "optimizer = torch.optim.Adam(lightgcn.parameters(), lr=LR)"
      ]
    },
    {
      "cell_type": "markdown",
      "metadata": {
        "id": "iTU8VBLSf1y1"
      },
      "source": [
        "Train the Model"
      ]
    },
    {
      "cell_type": "code",
      "execution_count": null,
      "metadata": {
        "execution": {
          "iopub.execute_input": "2022-09-28T04:34:15.782594Z",
          "iopub.status.busy": "2022-09-28T04:34:15.782236Z",
          "iopub.status.idle": "2022-09-28T04:34:52.217021Z",
          "shell.execute_reply": "2022-09-28T04:34:52.214527Z",
          "shell.execute_reply.started": "2022-09-28T04:34:15.782569Z"
        },
        "id": "iXfsuJlcy3FT",
        "pycharm": {
          "name": "#%%\n"
        }
      },
      "outputs": [],
      "source": [
        "loss_history, valid_loss_history = train(lightgcn, optimizer, train_dataset, test_dataset, train_edge_index, loss_function)"
      ]
    },
    {
      "cell_type": "markdown",
      "metadata": {
        "id": "XHFObo9Mf1y1"
      },
      "source": [
        "Plot the Loss"
      ]
    },
    {
      "cell_type": "code",
      "execution_count": null,
      "metadata": {
        "execution": {
          "iopub.execute_input": "2022-09-27T22:39:49.754650Z",
          "iopub.status.busy": "2022-09-27T22:39:49.753740Z",
          "iopub.status.idle": "2022-09-27T22:39:49.963771Z",
          "shell.execute_reply": "2022-09-27T22:39:49.962504Z",
          "shell.execute_reply.started": "2022-09-27T22:39:49.754650Z"
        },
        "id": "Z5P2Zf6yT4Uu",
        "pycharm": {
          "name": "#%%\n"
        }
      },
      "outputs": [],
      "source": [
        "epoch_list = [(i + 1) for i in range(EPOCHS)]\n",
        "\n",
        "plt.plot(epoch_list, loss_history, label='Training Loss')\n",
        "plt.plot(epoch_list, valid_loss_history, label='Validation Loss')\n",
        "with open('/content/drive/MyDrive/CS330_Project/cs330_light_gcn_V5_LosAngeles_lr=0.0005_lf_3L_ref.txt', 'a+') as fp:\n",
        "    for i in range(len(epoch_list)):\n",
        "        fp.write(\"%s %s %s\\n\" % (epoch_list[i], loss_history[i], valid_loss_history[i]))\n",
        "\n",
        "print('loss history', loss_history)\n",
        "print('valid loss history', valid_loss_history)\n",
        "plt.xlabel('Epoch')\n",
        "plt.ylabel('Loss')\n",
        "plt.legend()\n"
      ]
    },
    {
      "cell_type": "code",
      "source": [],
      "metadata": {
        "id": "d-5su7xwE5eG"
      },
      "execution_count": null,
      "outputs": []
    }
  ],
  "metadata": {
    "accelerator": "GPU",
    "colab": {
      "private_outputs": true,
      "provenance": [],
      "machine_shape": "hm"
    },
    "kernelspec": {
      "display_name": "Python 3",
      "name": "python3"
    },
    "language_info": {
      "name": "python"
    },
    "gpuClass": "premium"
  },
  "nbformat": 4,
  "nbformat_minor": 0
}