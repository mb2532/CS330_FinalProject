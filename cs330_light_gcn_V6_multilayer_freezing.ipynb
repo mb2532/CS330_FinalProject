{
  "cells": [
    {
      "cell_type": "markdown",
      "metadata": {
        "id": "ktxdLosxtgZd",
        "pycharm": {
          "name": "#%% md\n"
        }
      },
      "source": [
        "# Light GCN Notebook"
      ]
    },
    {
      "cell_type": "markdown",
      "metadata": {
        "id": "WjmfT8zVf1yt"
      },
      "source": [
        "## 0. Env Preparation"
      ]
    },
    {
      "cell_type": "markdown",
      "metadata": {
        "id": "OqljF7Lmf1yu"
      },
      "source": [
        "### 0.1 Install Packages"
      ]
    },
    {
      "cell_type": "markdown",
      "source": [
        "Make sure to download the right PyG version"
      ],
      "metadata": {
        "id": "n0y9Yo2XZrnU"
      }
    },
    {
      "cell_type": "code",
      "source": [
        "import torch\n",
        "torch.__version__"
      ],
      "metadata": {
        "colab": {
          "base_uri": "https://localhost:8080/",
          "height": 35
        },
        "id": "KZ8n4n9oiuVf",
        "outputId": "0ff79e61-d938-4a61-8131-80b0b9cd77af"
      },
      "execution_count": 1,
      "outputs": [
        {
          "output_type": "execute_result",
          "data": {
            "text/plain": [
              "'1.13.0+cu116'"
            ],
            "application/vnd.google.colaboratory.intrinsic+json": {
              "type": "string"
            }
          },
          "metadata": {},
          "execution_count": 1
        }
      ]
    },
    {
      "cell_type": "code",
      "source": [
        "!pip install pyg-lib torch-scatter torch-sparse -f https://data.pyg.org/whl/torch-1.13.0+cu116.html\n",
        "!pip install torch-geometric"
      ],
      "metadata": {
        "colab": {
          "base_uri": "https://localhost:8080/",
          "height": 920
        },
        "id": "Op63RCiUkjUU",
        "outputId": "38b73a74-6dd6-48ea-cba8-68c135ad047d"
      },
      "execution_count": 2,
      "outputs": [
        {
          "output_type": "stream",
          "name": "stdout",
          "text": [
            "Looking in indexes: https://pypi.org/simple, https://us-python.pkg.dev/colab-wheels/public/simple/\n",
            "Looking in links: https://data.pyg.org/whl/torch-1.13.0+cu116.html\n",
            "Collecting pyg-lib\n",
            "  Downloading https://data.pyg.org/whl/torch-1.13.0%2Bcu116/pyg_lib-0.1.0%2Bpt113cu116-cp38-cp38-linux_x86_64.whl (1.9 MB)\n",
            "\u001b[K     |████████████████████████████████| 1.9 MB 4.9 MB/s \n",
            "\u001b[?25hCollecting torch-scatter\n",
            "  Downloading https://data.pyg.org/whl/torch-1.13.0%2Bcu116/torch_scatter-2.1.0%2Bpt113cu116-cp38-cp38-linux_x86_64.whl (9.4 MB)\n",
            "\u001b[K     |████████████████████████████████| 9.4 MB 84.1 MB/s \n",
            "\u001b[?25hCollecting torch-sparse\n",
            "  Downloading https://data.pyg.org/whl/torch-1.13.0%2Bcu116/torch_sparse-0.6.15%2Bpt113cu116-cp38-cp38-linux_x86_64.whl (4.6 MB)\n",
            "\u001b[K     |████████████████████████████████| 4.6 MB 78.7 MB/s \n",
            "\u001b[?25hRequirement already satisfied: scipy in /usr/local/lib/python3.8/dist-packages (from torch-sparse) (1.7.3)\n",
            "Requirement already satisfied: numpy<1.23.0,>=1.16.5 in /usr/local/lib/python3.8/dist-packages (from scipy->torch-sparse) (1.21.6)\n",
            "Installing collected packages: torch-sparse, torch-scatter, pyg-lib\n",
            "Successfully installed pyg-lib-0.1.0+pt113cu116 torch-scatter-2.1.0+pt113cu116 torch-sparse-0.6.15+pt113cu116\n",
            "Looking in indexes: https://pypi.org/simple, https://us-python.pkg.dev/colab-wheels/public/simple/\n",
            "Collecting torch-geometric\n",
            "  Downloading torch_geometric-2.2.0.tar.gz (564 kB)\n",
            "\u001b[K     |████████████████████████████████| 564 kB 4.4 MB/s \n",
            "\u001b[?25hRequirement already satisfied: tqdm in /usr/local/lib/python3.8/dist-packages (from torch-geometric) (4.64.1)\n",
            "Requirement already satisfied: numpy in /usr/local/lib/python3.8/dist-packages (from torch-geometric) (1.21.6)\n",
            "Requirement already satisfied: scipy in /usr/local/lib/python3.8/dist-packages (from torch-geometric) (1.7.3)\n",
            "Requirement already satisfied: jinja2 in /usr/local/lib/python3.8/dist-packages (from torch-geometric) (2.11.3)\n",
            "Requirement already satisfied: requests in /usr/local/lib/python3.8/dist-packages (from torch-geometric) (2.23.0)\n",
            "Requirement already satisfied: pyparsing in /usr/local/lib/python3.8/dist-packages (from torch-geometric) (3.0.9)\n",
            "Requirement already satisfied: scikit-learn in /usr/local/lib/python3.8/dist-packages (from torch-geometric) (1.0.2)\n",
            "Collecting psutil>=5.8.0\n",
            "  Downloading psutil-5.9.4-cp36-abi3-manylinux_2_12_x86_64.manylinux2010_x86_64.manylinux_2_17_x86_64.manylinux2014_x86_64.whl (280 kB)\n",
            "\u001b[K     |████████████████████████████████| 280 kB 89.6 MB/s \n",
            "\u001b[?25hRequirement already satisfied: MarkupSafe>=0.23 in /usr/local/lib/python3.8/dist-packages (from jinja2->torch-geometric) (2.0.1)\n",
            "Requirement already satisfied: chardet<4,>=3.0.2 in /usr/local/lib/python3.8/dist-packages (from requests->torch-geometric) (3.0.4)\n",
            "Requirement already satisfied: certifi>=2017.4.17 in /usr/local/lib/python3.8/dist-packages (from requests->torch-geometric) (2022.9.24)\n",
            "Requirement already satisfied: urllib3!=1.25.0,!=1.25.1,<1.26,>=1.21.1 in /usr/local/lib/python3.8/dist-packages (from requests->torch-geometric) (1.24.3)\n",
            "Requirement already satisfied: idna<3,>=2.5 in /usr/local/lib/python3.8/dist-packages (from requests->torch-geometric) (2.10)\n",
            "Requirement already satisfied: joblib>=0.11 in /usr/local/lib/python3.8/dist-packages (from scikit-learn->torch-geometric) (1.2.0)\n",
            "Requirement already satisfied: threadpoolctl>=2.0.0 in /usr/local/lib/python3.8/dist-packages (from scikit-learn->torch-geometric) (3.1.0)\n",
            "Building wheels for collected packages: torch-geometric\n",
            "  Building wheel for torch-geometric (setup.py) ... \u001b[?25l\u001b[?25hdone\n",
            "  Created wheel for torch-geometric: filename=torch_geometric-2.2.0-py3-none-any.whl size=773302 sha256=261d529a2007ff69c7ee8961735249eb96b95fbc11f9ecefdc972fed6a5c86be\n",
            "  Stored in directory: /root/.cache/pip/wheels/59/a3/20/198928106d3169865ae73afcbd3d3d1796cf6b429b55c65378\n",
            "Successfully built torch-geometric\n",
            "Installing collected packages: psutil, torch-geometric\n",
            "  Attempting uninstall: psutil\n",
            "    Found existing installation: psutil 5.4.8\n",
            "    Uninstalling psutil-5.4.8:\n",
            "      Successfully uninstalled psutil-5.4.8\n",
            "Successfully installed psutil-5.9.4 torch-geometric-2.2.0\n"
          ]
        },
        {
          "output_type": "display_data",
          "data": {
            "application/vnd.colab-display-data+json": {
              "pip_warning": {
                "packages": [
                  "psutil"
                ]
              }
            }
          },
          "metadata": {}
        }
      ]
    },
    {
      "cell_type": "markdown",
      "metadata": {
        "id": "v3WDfWS2f1yv"
      },
      "source": [
        "### 0.2 Import Packages"
      ]
    },
    {
      "cell_type": "code",
      "execution_count": 3,
      "metadata": {
        "execution": {
          "iopub.execute_input": "2022-09-28T04:05:16.755256Z",
          "iopub.status.busy": "2022-09-28T04:05:16.754944Z",
          "iopub.status.idle": "2022-09-28T04:05:19.559673Z",
          "shell.execute_reply": "2022-09-28T04:05:19.558872Z",
          "shell.execute_reply.started": "2022-09-28T04:05:16.755232Z"
        },
        "id": "Y9fonQcxt3do",
        "pycharm": {
          "name": "#%%\n"
        }
      },
      "outputs": [],
      "source": [
        "import matplotlib.pyplot as plt\n",
        "import numpy as np\n",
        "import pandas as pd\n",
        "\n",
        "import torch\n",
        "import torch.nn as nn\n",
        "import torch.nn.functional as F\n",
        "from torch.utils.data import DataLoader\n",
        "from torch.utils.data import Dataset\n",
        "\n",
        "import torch_geometric\n",
        "from torch_geometric.nn.conv import MessagePassing\n",
        "from torch_geometric.utils import degree\n",
        "\n",
        "from tqdm.notebook import tqdm\n",
        "from sklearn.model_selection import train_test_split\n",
        "from torchsummary import summary"
      ]
    },
    {
      "cell_type": "markdown",
      "metadata": {
        "id": "nzLUutf7uNAS",
        "pycharm": {
          "name": "#%% md\n"
        }
      },
      "source": [
        "Check our environment"
      ]
    },
    {
      "cell_type": "code",
      "source": [
        "!python --version"
      ],
      "metadata": {
        "id": "KRmquIrDnnGQ",
        "colab": {
          "base_uri": "https://localhost:8080/"
        },
        "outputId": "51d9868c-5668-4ab5-ee5c-542ec5f92901"
      },
      "execution_count": 4,
      "outputs": [
        {
          "output_type": "stream",
          "name": "stdout",
          "text": [
            "Python 3.8.16\n"
          ]
        }
      ]
    },
    {
      "cell_type": "code",
      "execution_count": 5,
      "metadata": {
        "execution": {
          "iopub.execute_input": "2022-09-28T04:05:24.540932Z",
          "iopub.status.busy": "2022-09-28T04:05:24.540440Z",
          "iopub.status.idle": "2022-09-28T04:05:24.551815Z",
          "shell.execute_reply": "2022-09-28T04:05:24.550941Z",
          "shell.execute_reply.started": "2022-09-28T04:05:24.540906Z"
        },
        "id": "J_CDy1cbuF4_",
        "pycharm": {
          "name": "#%%\n"
        },
        "colab": {
          "base_uri": "https://localhost:8080/",
          "height": 35
        },
        "outputId": "b3e160c8-7036-4cd8-90d3-d094b9057857"
      },
      "outputs": [
        {
          "output_type": "execute_result",
          "data": {
            "text/plain": [
              "'2.2.0'"
            ],
            "application/vnd.google.colaboratory.intrinsic+json": {
              "type": "string"
            }
          },
          "metadata": {},
          "execution_count": 5
        }
      ],
      "source": [
        "torch_geometric.__version__"
      ]
    },
    {
      "cell_type": "markdown",
      "metadata": {
        "id": "kQDvc6usf1yw"
      },
      "source": [
        "Set device for torch"
      ]
    },
    {
      "cell_type": "code",
      "execution_count": 6,
      "metadata": {
        "execution": {
          "iopub.execute_input": "2022-09-28T04:05:28.094312Z",
          "iopub.status.busy": "2022-09-28T04:05:28.093946Z",
          "iopub.status.idle": "2022-09-28T04:05:28.098528Z",
          "shell.execute_reply": "2022-09-28T04:05:28.097844Z",
          "shell.execute_reply.started": "2022-09-28T04:05:28.094287Z"
        },
        "id": "b4pKT5jUt3pz",
        "pycharm": {
          "name": "#%%\n"
        }
      },
      "outputs": [],
      "source": [
        "device = torch.device(\"cuda:0\" if torch.cuda.is_available() else \"cpu\")"
      ]
    },
    {
      "cell_type": "markdown",
      "metadata": {
        "id": "JFdaSRE5f1yw"
      },
      "source": [
        "## 1. Pre-Training on Los Angeles"
      ]
    },
    {
      "cell_type": "markdown",
      "metadata": {
        "id": "eYnQc9UH07Fg",
        "pycharm": {
          "name": "#%% md\n"
        }
      },
      "source": [
        "### 1.1 Read Data\n"
      ]
    },
    {
      "cell_type": "markdown",
      "source": [
        "In order to access the Google Drive, first go to: https://drive.google.com/drive/folders/1TzyQFgm_szZMo6d6RyrwPE4Hkc_0I0og?usp=sharing, then go to \"Shared with me\", right click on the folder and select \"Add a shortcut to Drive\"."
      ],
      "metadata": {
        "id": "wxmrfdLlLZQc"
      }
    },
    {
      "cell_type": "code",
      "source": [
        "from google.colab import drive\n",
        "drive.mount('/content/drive', force_remount=True)"
      ],
      "metadata": {
        "id": "2nKt-DY7QCSU",
        "colab": {
          "base_uri": "https://localhost:8080/"
        },
        "outputId": "d2d80e57-c7e6-447e-da57-2e2baf4b5415"
      },
      "execution_count": 7,
      "outputs": [
        {
          "output_type": "stream",
          "name": "stdout",
          "text": [
            "Mounted at /content/drive\n"
          ]
        }
      ]
    },
    {
      "cell_type": "code",
      "execution_count": 8,
      "metadata": {
        "execution": {
          "iopub.execute_input": "2022-09-28T04:19:00.774144Z",
          "iopub.status.busy": "2022-09-28T04:19:00.773432Z",
          "iopub.status.idle": "2022-09-28T04:19:03.716543Z",
          "shell.execute_reply": "2022-09-28T04:19:03.715618Z",
          "shell.execute_reply.started": "2022-09-28T04:19:00.774118Z"
        },
        "pycharm": {
          "name": "#%%\n"
        },
        "id": "uGkiEskGf1yx"
      },
      "outputs": [],
      "source": [
        "columns_name = ['place_index', 'user_index', 'rating']\n",
        "review_df = pd.read_csv(\"/content/drive/MyDrive/cities/Los_angeles/train.tsv\", sep=\"\\t\")[columns_name].astype(int)"
      ]
    },
    {
      "cell_type": "markdown",
      "metadata": {
        "id": "bxw2vEInf1yx"
      },
      "source": [
        "### 1.2 Number of User and Place"
      ]
    },
    {
      "cell_type": "code",
      "execution_count": 9,
      "metadata": {
        "id": "A0zgWkQAf1yx",
        "colab": {
          "base_uri": "https://localhost:8080/"
        },
        "outputId": "93e9ecbe-5e32-4eef-d8b3-8c1066c2af84"
      },
      "outputs": [
        {
          "output_type": "stream",
          "name": "stdout",
          "text": [
            "68941\n",
            "9523\n"
          ]
        }
      ],
      "source": [
        "max_user_id = review_df['user_index'].max()\n",
        "max_place_id = review_df['place_index'].max()\n",
        "print(max_user_id)\n",
        "print(max_place_id)"
      ]
    },
    {
      "cell_type": "code",
      "source": [
        "max_node_id = max_user_id + max_place_id + 1 # since place_id starts from 0\n",
        "print(max_node_id)"
      ],
      "metadata": {
        "id": "sHAliWim8k7h",
        "colab": {
          "base_uri": "https://localhost:8080/"
        },
        "outputId": "93ef74fc-909c-4d0a-d6a9-fe721f877d31"
      },
      "execution_count": 10,
      "outputs": [
        {
          "output_type": "stream",
          "name": "stdout",
          "text": [
            "78465\n"
          ]
        }
      ]
    },
    {
      "cell_type": "markdown",
      "metadata": {
        "id": "CrPQNnUjf1yx"
      },
      "source": [
        "### 1.3 Split Data"
      ]
    },
    {
      "cell_type": "code",
      "execution_count": 11,
      "metadata": {
        "execution": {
          "iopub.execute_input": "2022-09-28T04:19:08.987210Z",
          "iopub.status.busy": "2022-09-28T04:19:08.986887Z",
          "iopub.status.idle": "2022-09-28T04:19:09.175583Z",
          "shell.execute_reply": "2022-09-28T04:19:09.174815Z",
          "shell.execute_reply.started": "2022-09-28T04:19:08.987185Z"
        },
        "id": "SWwvL8JOmrT4",
        "pycharm": {
          "name": "#%%\n"
        }
      },
      "outputs": [],
      "source": [
        "# It is possible some users or restaurants in test do not exist in \n",
        "# train after this split.\n",
        "# Will need to retrain the model with combined train+test after picking\n",
        "# the best model structure\n",
        "train, test = train_test_split(review_df.values, test_size=0.1)\n",
        "train_df = pd.DataFrame(train, columns=review_df.columns)\n",
        "test_df = pd.DataFrame(test, columns=review_df.columns)"
      ]
    },
    {
      "cell_type": "markdown",
      "metadata": {
        "id": "j6GlUta4f1yx"
      },
      "source": [
        "### 1.4 Get distribution of different ratings"
      ]
    },
    {
      "cell_type": "code",
      "execution_count": 12,
      "metadata": {
        "id": "FdgnxzLWf1yy",
        "colab": {
          "base_uri": "https://localhost:8080/"
        },
        "outputId": "098d35fa-15dc-40c8-ee04-c8679ae0fd00"
      },
      "outputs": [
        {
          "output_type": "stream",
          "name": "stdout",
          "text": [
            "[0.5941015  0.75257173 0.25542619 0.11558842 0.0455629 ]\n"
          ]
        }
      ],
      "source": [
        "# Weights will be used to normalize loss function\n",
        "def get_weights(df):\n",
        "    rating_counts = np.array([len(df[df['rating'] == i]) for i in [1, 2, 3, 4, 5]])\n",
        "    inverse_count = 1 / rating_counts\n",
        "    norm = np.linalg.norm(inverse_count)\n",
        "    normalized_inverse_count = inverse_count / norm\n",
        "\n",
        "    return normalized_inverse_count\n",
        "\n",
        "weights = get_weights(train_df)\n",
        "print(weights)"
      ]
    },
    {
      "cell_type": "code",
      "execution_count": 13,
      "metadata": {
        "id": "Q_ens4xxf1yy"
      },
      "outputs": [],
      "source": [
        "train_df['weight'] = train_df['rating'].map(lambda val: weights[int(val)-1])\n",
        "test_df['weight'] = test_df['rating'].map(lambda val: weights[int(val)-1])"
      ]
    },
    {
      "cell_type": "code",
      "execution_count": 14,
      "metadata": {
        "id": "ubeyUQ3Vf1yy",
        "colab": {
          "base_uri": "https://localhost:8080/",
          "height": 206
        },
        "outputId": "5e4467b1-d041-4c16-f734-9e8e5fc9427d"
      },
      "outputs": [
        {
          "output_type": "execute_result",
          "data": {
            "text/plain": [
              "   place_index  user_index  rating    weight\n",
              "0          131       48989       5  0.045563\n",
              "1         3842        1880       5  0.045563\n",
              "2          916       10869       5  0.045563\n",
              "3         2730       46697       4  0.115588\n",
              "4         3504       21556       2  0.752572"
            ],
            "text/html": [
              "\n",
              "  <div id=\"df-f41b1ae6-799a-4cc4-ab29-2bafb3088876\">\n",
              "    <div class=\"colab-df-container\">\n",
              "      <div>\n",
              "<style scoped>\n",
              "    .dataframe tbody tr th:only-of-type {\n",
              "        vertical-align: middle;\n",
              "    }\n",
              "\n",
              "    .dataframe tbody tr th {\n",
              "        vertical-align: top;\n",
              "    }\n",
              "\n",
              "    .dataframe thead th {\n",
              "        text-align: right;\n",
              "    }\n",
              "</style>\n",
              "<table border=\"1\" class=\"dataframe\">\n",
              "  <thead>\n",
              "    <tr style=\"text-align: right;\">\n",
              "      <th></th>\n",
              "      <th>place_index</th>\n",
              "      <th>user_index</th>\n",
              "      <th>rating</th>\n",
              "      <th>weight</th>\n",
              "    </tr>\n",
              "  </thead>\n",
              "  <tbody>\n",
              "    <tr>\n",
              "      <th>0</th>\n",
              "      <td>131</td>\n",
              "      <td>48989</td>\n",
              "      <td>5</td>\n",
              "      <td>0.045563</td>\n",
              "    </tr>\n",
              "    <tr>\n",
              "      <th>1</th>\n",
              "      <td>3842</td>\n",
              "      <td>1880</td>\n",
              "      <td>5</td>\n",
              "      <td>0.045563</td>\n",
              "    </tr>\n",
              "    <tr>\n",
              "      <th>2</th>\n",
              "      <td>916</td>\n",
              "      <td>10869</td>\n",
              "      <td>5</td>\n",
              "      <td>0.045563</td>\n",
              "    </tr>\n",
              "    <tr>\n",
              "      <th>3</th>\n",
              "      <td>2730</td>\n",
              "      <td>46697</td>\n",
              "      <td>4</td>\n",
              "      <td>0.115588</td>\n",
              "    </tr>\n",
              "    <tr>\n",
              "      <th>4</th>\n",
              "      <td>3504</td>\n",
              "      <td>21556</td>\n",
              "      <td>2</td>\n",
              "      <td>0.752572</td>\n",
              "    </tr>\n",
              "  </tbody>\n",
              "</table>\n",
              "</div>\n",
              "      <button class=\"colab-df-convert\" onclick=\"convertToInteractive('df-f41b1ae6-799a-4cc4-ab29-2bafb3088876')\"\n",
              "              title=\"Convert this dataframe to an interactive table.\"\n",
              "              style=\"display:none;\">\n",
              "        \n",
              "  <svg xmlns=\"http://www.w3.org/2000/svg\" height=\"24px\"viewBox=\"0 0 24 24\"\n",
              "       width=\"24px\">\n",
              "    <path d=\"M0 0h24v24H0V0z\" fill=\"none\"/>\n",
              "    <path d=\"M18.56 5.44l.94 2.06.94-2.06 2.06-.94-2.06-.94-.94-2.06-.94 2.06-2.06.94zm-11 1L8.5 8.5l.94-2.06 2.06-.94-2.06-.94L8.5 2.5l-.94 2.06-2.06.94zm10 10l.94 2.06.94-2.06 2.06-.94-2.06-.94-.94-2.06-.94 2.06-2.06.94z\"/><path d=\"M17.41 7.96l-1.37-1.37c-.4-.4-.92-.59-1.43-.59-.52 0-1.04.2-1.43.59L10.3 9.45l-7.72 7.72c-.78.78-.78 2.05 0 2.83L4 21.41c.39.39.9.59 1.41.59.51 0 1.02-.2 1.41-.59l7.78-7.78 2.81-2.81c.8-.78.8-2.07 0-2.86zM5.41 20L4 18.59l7.72-7.72 1.47 1.35L5.41 20z\"/>\n",
              "  </svg>\n",
              "      </button>\n",
              "      \n",
              "  <style>\n",
              "    .colab-df-container {\n",
              "      display:flex;\n",
              "      flex-wrap:wrap;\n",
              "      gap: 12px;\n",
              "    }\n",
              "\n",
              "    .colab-df-convert {\n",
              "      background-color: #E8F0FE;\n",
              "      border: none;\n",
              "      border-radius: 50%;\n",
              "      cursor: pointer;\n",
              "      display: none;\n",
              "      fill: #1967D2;\n",
              "      height: 32px;\n",
              "      padding: 0 0 0 0;\n",
              "      width: 32px;\n",
              "    }\n",
              "\n",
              "    .colab-df-convert:hover {\n",
              "      background-color: #E2EBFA;\n",
              "      box-shadow: 0px 1px 2px rgba(60, 64, 67, 0.3), 0px 1px 3px 1px rgba(60, 64, 67, 0.15);\n",
              "      fill: #174EA6;\n",
              "    }\n",
              "\n",
              "    [theme=dark] .colab-df-convert {\n",
              "      background-color: #3B4455;\n",
              "      fill: #D2E3FC;\n",
              "    }\n",
              "\n",
              "    [theme=dark] .colab-df-convert:hover {\n",
              "      background-color: #434B5C;\n",
              "      box-shadow: 0px 1px 3px 1px rgba(0, 0, 0, 0.15);\n",
              "      filter: drop-shadow(0px 1px 2px rgba(0, 0, 0, 0.3));\n",
              "      fill: #FFFFFF;\n",
              "    }\n",
              "  </style>\n",
              "\n",
              "      <script>\n",
              "        const buttonEl =\n",
              "          document.querySelector('#df-f41b1ae6-799a-4cc4-ab29-2bafb3088876 button.colab-df-convert');\n",
              "        buttonEl.style.display =\n",
              "          google.colab.kernel.accessAllowed ? 'block' : 'none';\n",
              "\n",
              "        async function convertToInteractive(key) {\n",
              "          const element = document.querySelector('#df-f41b1ae6-799a-4cc4-ab29-2bafb3088876');\n",
              "          const dataTable =\n",
              "            await google.colab.kernel.invokeFunction('convertToInteractive',\n",
              "                                                     [key], {});\n",
              "          if (!dataTable) return;\n",
              "\n",
              "          const docLinkHtml = 'Like what you see? Visit the ' +\n",
              "            '<a target=\"_blank\" href=https://colab.research.google.com/notebooks/data_table.ipynb>data table notebook</a>'\n",
              "            + ' to learn more about interactive tables.';\n",
              "          element.innerHTML = '';\n",
              "          dataTable['output_type'] = 'display_data';\n",
              "          await google.colab.output.renderOutput(dataTable, element);\n",
              "          const docLink = document.createElement('div');\n",
              "          docLink.innerHTML = docLinkHtml;\n",
              "          element.appendChild(docLink);\n",
              "        }\n",
              "      </script>\n",
              "    </div>\n",
              "  </div>\n",
              "  "
            ]
          },
          "metadata": {},
          "execution_count": 14
        }
      ],
      "source": [
        "# Check data snippet\n",
        "train_df.head(5)"
      ]
    },
    {
      "cell_type": "markdown",
      "metadata": {
        "id": "XNoblY5kxlv_",
        "pycharm": {
          "name": "#%% md\n"
        }
      },
      "source": [
        "### 1.5 Dataset and Dataloader"
      ]
    },
    {
      "cell_type": "code",
      "execution_count": 15,
      "metadata": {
        "execution": {
          "iopub.execute_input": "2022-09-28T04:29:41.367161Z",
          "iopub.status.busy": "2022-09-28T04:29:41.366316Z",
          "iopub.status.idle": "2022-09-28T04:29:41.372542Z",
          "shell.execute_reply": "2022-09-28T04:29:41.371543Z",
          "shell.execute_reply.started": "2022-09-28T04:29:41.367132Z"
        },
        "id": "NQRGy-CJnOkg",
        "pycharm": {
          "name": "#%%\n"
        }
      },
      "outputs": [],
      "source": [
        "class MyDataset(Dataset):\n",
        "    def __init__(self, data):\n",
        "        self.data = data.to_numpy()\n",
        "        \n",
        "    def __getitem__(self, index):\n",
        "        return self.data[index, 0].astype(np.compat.long), \\\n",
        "            self.data[index, 1].astype(np.compat.long), \\\n",
        "            self.data[index, 2:3].astype(np.float32), \\\n",
        "            self.data[index, 3]\n",
        "    \n",
        "    def __len__(self):\n",
        "        return len(self.data)"
      ]
    },
    {
      "cell_type": "markdown",
      "metadata": {
        "id": "vjHZg1Eu-MKs",
        "pycharm": {
          "name": "#%% md\n"
        }
      },
      "source": [
        "## 1.6 Graph Construction"
      ]
    },
    {
      "cell_type": "code",
      "execution_count": 16,
      "metadata": {
        "execution": {
          "iopub.execute_input": "2022-09-28T04:29:45.034832Z",
          "iopub.status.busy": "2022-09-28T04:29:45.034193Z",
          "iopub.status.idle": "2022-09-28T04:29:45.088226Z",
          "shell.execute_reply": "2022-09-28T04:29:45.087347Z",
          "shell.execute_reply.started": "2022-09-28T04:29:45.034807Z"
        },
        "id": "O3BkGyV9pkce",
        "pycharm": {
          "name": "#%%\n"
        }
      },
      "outputs": [],
      "source": [
        "u_t = torch.LongTensor(train_df.user_index.to_numpy())\n",
        "p_t = torch.LongTensor(train_df.place_index.to_numpy()) + max_user_id + 1\n",
        "\n",
        "train_edge_index = torch.stack((torch.cat([u_t, p_t]),torch.cat([p_t, u_t]))).to(device)"
      ]
    },
    {
      "cell_type": "code",
      "execution_count": 17,
      "metadata": {
        "id": "uGlRLHR_f1yz"
      },
      "outputs": [],
      "source": [
        "train_df['place_index'] = train_df['place_index'] + max_user_id + 1\n",
        "test_df['place_index'] = test_df['place_index'] + max_user_id + 1\n",
        "# assert that there's no index overlapping\n",
        "intersection = set(train_df['place_index'].unique()).intersection(set(train_df['user_index'].unique()))\n",
        "assert len(intersection) == 0\n",
        "\n",
        "intersection = set(test_df['place_index'].unique()).intersection(set(test_df['user_index'].unique()))\n",
        "assert len(intersection) == 0\n",
        "\n",
        "train_dataset = MyDataset(train_df)\n",
        "test_dataset = MyDataset(test_df)"
      ]
    },
    {
      "cell_type": "markdown",
      "metadata": {
        "id": "2ys1P7mtcr54",
        "pycharm": {
          "name": "#%% md\n"
        }
      },
      "source": [
        "## 1.7 Model Architecture"
      ]
    },
    {
      "cell_type": "markdown",
      "metadata": {
        "id": "49WD8SryyUds",
        "pycharm": {
          "name": "#%% md\n"
        }
      },
      "source": [
        "### 1.7.1 LightGCN Convolutional Layer"
      ]
    },
    {
      "cell_type": "code",
      "execution_count": 18,
      "metadata": {
        "execution": {
          "iopub.execute_input": "2022-09-28T04:29:49.256735Z",
          "iopub.status.busy": "2022-09-28T04:29:49.256047Z",
          "iopub.status.idle": "2022-09-28T04:29:49.262307Z",
          "shell.execute_reply": "2022-09-28T04:29:49.261567Z",
          "shell.execute_reply.started": "2022-09-28T04:29:49.256707Z"
        },
        "id": "-aTMoHisNIh_",
        "pycharm": {
          "name": "#%%\n"
        }
      },
      "outputs": [],
      "source": [
        "class LightGCNConv(MessagePassing):\n",
        "    def __init__(self, **kwargs):\n",
        "        super().__init__(aggr='add')\n",
        "\n",
        "    def forward(self, x, edge_index, num_nodes, grad):\n",
        "        # Compute normalization\n",
        "        from_, to_ = edge_index\n",
        "        deg = degree(to_, x.size(0), dtype=x.dtype)\n",
        "        deg_inv_sqrt = deg.pow(-0.5)\n",
        "        deg_inv_sqrt[deg_inv_sqrt == float('inf')] = 0\n",
        "        norm = deg_inv_sqrt[from_] * deg_inv_sqrt[to_]\n",
        "        # Start propagating messages (no update after aggregation)\n",
        "        return self.propagate(edge_index, x=x, norm=norm, requires_grad=grad)\n",
        "\n",
        "    def message(self, x_j, norm):\n",
        "        return norm.view(-1, 1) * x_j"
      ]
    },
    {
      "cell_type": "code",
      "execution_count": 19,
      "metadata": {
        "id": "B2o-hw1of1y0",
        "colab": {
          "base_uri": "https://localhost:8080/"
        },
        "outputId": "159a295e-8108-4387-fd88-cb14a3493774"
      },
      "outputs": [
        {
          "output_type": "execute_result",
          "data": {
            "text/plain": [
              "tensor([[0.0000, 0.0000, 0.7071, 0.5000, 0.0000],\n",
              "        [0.0000, 0.0000, 0.0000, 0.5000, 0.7071],\n",
              "        [0.7071, 0.0000, 0.0000, 0.0000, 0.0000],\n",
              "        [0.5000, 0.5000, 0.0000, 0.0000, 0.0000],\n",
              "        [0.0000, 0.7071, 0.0000, 0.0000, 0.0000]])"
            ]
          },
          "metadata": {},
          "execution_count": 19
        }
      ],
      "source": [
        "# Initialize node embeddings as one-hot embeddings\n",
        "test_x = torch.Tensor(np.eye(5))\n",
        "\n",
        "# Construct edges\n",
        "test_edge_index = torch.LongTensor(np.array([\n",
        "  [0, 0, 1, 1, 2, 3, 3, 4],\n",
        "  [2, 3, 3, 4, 0, 0, 1, 1]\n",
        "]))\n",
        "\n",
        "# Check out the result of passing the embeddings through our Graph Convolutional Network\n",
        "LightGCNConv()(test_x, test_edge_index, 5, True)"
      ]
    },
    {
      "cell_type": "markdown",
      "metadata": {
        "id": "I2tW9FJFqNjn",
        "pycharm": {
          "name": "#%% md\n"
        }
      },
      "source": [
        "### 1.7.2 Recommender System GNN (with layer freezing option for LightGCNConv)"
      ]
    },
    {
      "cell_type": "code",
      "execution_count": 20,
      "metadata": {
        "execution": {
          "iopub.execute_input": "2022-09-28T04:29:55.128388Z",
          "iopub.status.busy": "2022-09-28T04:29:55.128015Z",
          "iopub.status.idle": "2022-09-28T04:29:55.137444Z",
          "shell.execute_reply": "2022-09-28T04:29:55.136459Z",
          "shell.execute_reply.started": "2022-09-28T04:29:55.128356Z"
        },
        "id": "nT5LTkI8Ml1c",
        "pycharm": {
          "name": "#%%\n"
        }
      },
      "outputs": [],
      "source": [
        "class LightGCN(nn.Module):\n",
        "    def __init__(self, latent_dim, num_layers, max_index):\n",
        "        super(LightGCN, self).__init__()\n",
        "        self.embedding = nn.Embedding(max_index, latent_dim)\n",
        "        self.convs = nn.ModuleList(LightGCNConv() for _ in range(num_layers))\n",
        "        self.init_parameters()\n",
        "        self.nn = nn.Linear(2*latent_dim, 1)\n",
        "        self.num_layers = num_layers\n",
        "        self.max_index = max_index\n",
        "\n",
        "    def init_parameters(self):\n",
        "        nn.init.normal_(self.embedding.weight, std=0.1) \n",
        "\n",
        "    def forward(self, edge_index, freezed_layers = []):\n",
        "        emb0 = self.embedding.weight\n",
        "        embs = [emb0]\n",
        "        emb = emb0\n",
        "        # Set all layers requires_grad = True as default\n",
        "        if freezed_layers == []:\n",
        "          freezed_layers = [False for l in range(self.num_layers)]\n",
        "        else:\n",
        "          assert len(freezed_layers) == self.num_layers\n",
        "        idx = 0\n",
        "        for conv in self.convs:\n",
        "            emb = conv(x=emb, edge_index=edge_index, num_nodes=self.max_index, grad=not freezed_layers[idx])\n",
        "            embs.append(emb)\n",
        "            idx = idx + 1\n",
        "        out = torch.mean(torch.stack(embs, dim=0), dim=0)\n",
        "        return emb0, out\n",
        "    \n",
        "    def pred(self, users, items, embeddings):\n",
        "        user_emb = embeddings[users]\n",
        "        item_emb = embeddings[items]\n",
        "        x = torch.cat((user_emb,item_emb), 1)\n",
        "        x = self.nn(x)\n",
        "        return x"
      ]
    },
    {
      "cell_type": "markdown",
      "metadata": {
        "id": "_qOC3fF9m6cH",
        "pycharm": {
          "name": "#%% md\n"
        }
      },
      "source": [
        "## 1.8 Train and evaluate models\n",
        "\n",
        "Set Parameters"
      ]
    },
    {
      "cell_type": "code",
      "execution_count": 21,
      "metadata": {
        "execution": {
          "iopub.execute_input": "2022-09-28T04:29:59.336359Z",
          "iopub.status.busy": "2022-09-28T04:29:59.335998Z",
          "iopub.status.idle": "2022-09-28T04:29:59.340947Z",
          "shell.execute_reply": "2022-09-28T04:29:59.340144Z",
          "shell.execute_reply.started": "2022-09-28T04:29:59.336319Z"
        },
        "id": "MZtgfxxIm5nL",
        "pycharm": {
          "name": "#%%\n"
        }
      },
      "outputs": [],
      "source": [
        "latent_dim = 64\n",
        "n_layers = 10\n",
        "\n",
        "EPOCHS = 5\n",
        "BATCH_SIZE = 100\n",
        "DECAY = 0.0001\n",
        "LR = 0.0005\n",
        "K = 2"
      ]
    },
    {
      "cell_type": "markdown",
      "metadata": {
        "id": "gmN76R38f1y0"
      },
      "source": [
        "Set Model"
      ]
    },
    {
      "cell_type": "code",
      "execution_count": 22,
      "metadata": {
        "execution": {
          "iopub.execute_input": "2022-09-28T04:30:01.615743Z",
          "iopub.status.busy": "2022-09-28T04:30:01.615380Z",
          "iopub.status.idle": "2022-09-28T04:30:01.696745Z",
          "shell.execute_reply": "2022-09-28T04:30:01.695686Z",
          "shell.execute_reply.started": "2022-09-28T04:30:01.615718Z"
        },
        "id": "JgZrgHUnf1y0"
      },
      "outputs": [],
      "source": [
        "lightgcn = LightGCN(\n",
        "    latent_dim=latent_dim,\n",
        "    num_layers=n_layers,\n",
        "    max_index=max_node_id + 1)\n",
        "lightgcn = lightgcn.to(device)"
      ]
    },
    {
      "cell_type": "markdown",
      "metadata": {
        "id": "XpTCkdS6f1y0"
      },
      "source": [
        "Set Train Function"
      ]
    },
    {
      "cell_type": "code",
      "execution_count": 23,
      "metadata": {
        "execution": {
          "iopub.execute_input": "2022-09-28T04:32:32.252808Z",
          "iopub.status.busy": "2022-09-28T04:32:32.252472Z",
          "iopub.status.idle": "2022-09-28T04:32:32.259687Z",
          "shell.execute_reply": "2022-09-28T04:32:32.258563Z",
          "shell.execute_reply.started": "2022-09-28T04:32:32.252782Z"
        },
        "pycharm": {
          "name": "#%%\n"
        },
        "id": "kHSIkLMuf1y0"
      },
      "outputs": [],
      "source": [
        "def get_testset_loss(model, testset, loss_fn, embeddings):\n",
        "    loss_list = []\n",
        "    model.eval()\n",
        "    with torch.no_grad():\n",
        "        for items, users, ratings, weights in DataLoader(testset, batch_size=BATCH_SIZE):\n",
        "            users, items, ratings, weights = users.to(device), items.to(device), ratings.to(device), weights.to(device)\n",
        "            pred = model.pred(users, items, embeddings)\n",
        "            loss = loss_fn(pred, ratings, weights)\n",
        "            \n",
        "            loss_list.append(loss.item())\n",
        "            \n",
        "    return sum(loss_list) / len(loss_list)\n",
        "\n",
        "\n",
        "def train(model, optimizer, train_dataset, test_dataset, train_edge_index, loss_fn, freezed_layers):\n",
        "    loss_list_epoch = []\n",
        "    valid_loss_list_epoch = []\n",
        "    train_dataloader = DataLoader(train_dataset, batch_size=BATCH_SIZE)\n",
        "    min_valid_loss = None\n",
        "    min_loss_model = None\n",
        "    for epoch in tqdm(range(EPOCHS)):\n",
        "        n_batch = int(len(train_dataset)/BATCH_SIZE)\n",
        "        loss_list = []\n",
        "        model.train()\n",
        "        for items, users, ratings, weights in tqdm(train_dataloader):\n",
        "            optimizer.zero_grad()\n",
        "            users, items, ratings, weights = users.to(device), items.to(device), ratings.to(device), weights.to(device)\n",
        "            _, embeddings = model(train_edge_index, freezed_layers)\n",
        "            pred = model.pred(users, items, embeddings)\n",
        "            loss = loss_fn(pred, ratings, weights)\n",
        "            loss.backward()\n",
        "            optimizer.step()\n",
        "            loss_list.append(loss.item())\n",
        "            \n",
        "        # evaluate on validation data\n",
        "        valid_loss = get_testset_loss(model, test_dataset, loss_fn, embeddings)\n",
        "        if min_valid_loss is None or valid_loss < min_valid_loss:\n",
        "            min_valid_loss = valid_loss\n",
        "            min_loss_model = torch.save(model.state_dict(), f\"epoch_{epoch}.ckpt\")\n",
        "            \n",
        "        valid_loss_list_epoch.append(round(valid_loss, 4))\n",
        "        loss_list_epoch.append(round(np.mean(loss_list),4))\n",
        "\n",
        "    return loss_list_epoch, valid_loss_list_epoch"
      ]
    },
    {
      "cell_type": "markdown",
      "metadata": {
        "id": "Z4xJSiBiznki",
        "pycharm": {
          "name": "#%% md\n"
        }
      },
      "source": [
        "Set Loss and Optimizer"
      ]
    },
    {
      "cell_type": "code",
      "execution_count": 24,
      "metadata": {
        "execution": {
          "iopub.execute_input": "2022-09-28T04:34:12.752383Z",
          "iopub.status.busy": "2022-09-28T04:34:12.752022Z",
          "iopub.status.idle": "2022-09-28T04:34:12.757327Z",
          "shell.execute_reply": "2022-09-28T04:34:12.756348Z",
          "shell.execute_reply.started": "2022-09-28T04:34:12.752357Z"
        },
        "id": "eKBv9eXongux",
        "pycharm": {
          "name": "#%%\n"
        }
      },
      "outputs": [],
      "source": [
        "# Calculate weights of different labels and define weighted MSE loss\n",
        "def weighted_MSE(preds, targets, weights):\n",
        "    return (weights * (preds - targets) ** 2).mean()\n",
        "\n",
        "loss_function = weighted_MSE\n",
        "optimizer = torch.optim.Adam(lightgcn.parameters(), lr=LR)"
      ]
    },
    {
      "cell_type": "markdown",
      "metadata": {
        "id": "iTU8VBLSf1y1"
      },
      "source": [
        "Train the Model"
      ]
    },
    {
      "cell_type": "code",
      "execution_count": null,
      "metadata": {
        "execution": {
          "iopub.execute_input": "2022-09-28T04:34:15.782594Z",
          "iopub.status.busy": "2022-09-28T04:34:15.782236Z",
          "iopub.status.idle": "2022-09-28T04:34:52.217021Z",
          "shell.execute_reply": "2022-09-28T04:34:52.214527Z",
          "shell.execute_reply.started": "2022-09-28T04:34:15.782569Z"
        },
        "id": "iXfsuJlcy3FT",
        "pycharm": {
          "name": "#%%\n"
        },
        "colab": {
          "base_uri": "https://localhost:8080/",
          "height": 113,
          "referenced_widgets": [
            "841b03bea15a4cb68b704cc350eeaee9",
            "60863e4799ab44019ad5cea01b0784c3",
            "ebbd7923a3334738a4bdf21022922f2b",
            "ce8d05667641472488abfb94618bcd1c",
            "fe1b25d653614c40ae1d9bc80d308a2a",
            "cad1dcbf426a441eb14dd58684e2da1e",
            "bbb3a58e36de4632ae70985b27274c88",
            "a25119edc3a646c28fb90e5d08b530aa",
            "9a1eed7c78e54719b80048356ae4b676",
            "338d948b82b44afb95da37eb9ca1ea19",
            "422ac181476b4e729088353603ded84d",
            "f36101427f39476680d8fa2749c3c2dd",
            "afa430e154cf40ba89a45ad7eaa60186",
            "ff5c369ff9f847e8beb452491a5419b6",
            "eee410ca4c694e1abb9c73d2968811de",
            "68bd5012b9804a88ba9581152b0cc1be",
            "e3489983df464bca80e4a531f591bd7d",
            "3d833b9519284d829b8e97934930096a",
            "cffd1c4d8da44623bb642dc9ee602bab",
            "d6a3c2050c99498eaf4f807d955a7cc4",
            "a9f8707bec994c0a83ca3ed6c808f963",
            "ac9451e6eb374c0faa7bad6783410c3c",
            "befdceb23a8444cda1bbca8f4255d5c6",
            "26b2e298738a409cb017096c41ccb6c5",
            "d225815dd7b44c0eab2694d008d28067",
            "ca9251942fc446baa34ae07734aa9562",
            "20f8a913decf4f3394b429bcb99edc23",
            "a3203309d6534ff08c6b8c0a832d53ca",
            "795d3be3a88148cab773c270b5af3b09",
            "48b673ed98324664ad062f4f28f4ddad",
            "50dd7f3ea59043ae86aa85b3d9ca90fe",
            "779d90e8bdf54de3aac3dbedec09a8e8",
            "74829a69f6de4793867bdb74e6073adf"
          ]
        },
        "outputId": "42cc52c7-267a-4cde-af49-1ca7d45c24dd"
      },
      "outputs": [
        {
          "output_type": "display_data",
          "data": {
            "text/plain": [
              "  0%|          | 0/5 [00:00<?, ?it/s]"
            ],
            "application/vnd.jupyter.widget-view+json": {
              "version_major": 2,
              "version_minor": 0,
              "model_id": "841b03bea15a4cb68b704cc350eeaee9"
            }
          },
          "metadata": {}
        },
        {
          "output_type": "display_data",
          "data": {
            "text/plain": [
              "  0%|          | 0/11663 [00:00<?, ?it/s]"
            ],
            "application/vnd.jupyter.widget-view+json": {
              "version_major": 2,
              "version_minor": 0,
              "model_id": "f36101427f39476680d8fa2749c3c2dd"
            }
          },
          "metadata": {}
        },
        {
          "output_type": "display_data",
          "data": {
            "text/plain": [
              "  0%|          | 0/11663 [00:00<?, ?it/s]"
            ],
            "application/vnd.jupyter.widget-view+json": {
              "version_major": 2,
              "version_minor": 0,
              "model_id": "befdceb23a8444cda1bbca8f4255d5c6"
            }
          },
          "metadata": {}
        }
      ],
      "source": [
        "loss_history, valid_loss_history = train(lightgcn, optimizer, train_dataset, test_dataset, train_edge_index, loss_function, freezed_layers=[])"
      ]
    },
    {
      "cell_type": "markdown",
      "metadata": {
        "id": "XHFObo9Mf1y1"
      },
      "source": [
        "Plot and store the Loss"
      ]
    },
    {
      "cell_type": "code",
      "execution_count": null,
      "metadata": {
        "execution": {
          "iopub.execute_input": "2022-09-27T22:39:49.754650Z",
          "iopub.status.busy": "2022-09-27T22:39:49.753740Z",
          "iopub.status.idle": "2022-09-27T22:39:49.963771Z",
          "shell.execute_reply": "2022-09-27T22:39:49.962504Z",
          "shell.execute_reply.started": "2022-09-27T22:39:49.754650Z"
        },
        "id": "Z5P2Zf6yT4Uu",
        "pycharm": {
          "name": "#%%\n"
        }
      },
      "outputs": [],
      "source": [
        "epoch_list = [(i+1) for i in range(EPOCHS)]\n",
        "\n",
        "plt.plot(epoch_list, loss_history, label='Training Loss')\n",
        "plt.plot(epoch_list, valid_loss_history, label='Validation Loss')\n",
        "with open('/content/drive/MyDrive/CS330_Project/cs330_light_gcn_V5_LA_lr=0.0005_lf-.txt', 'a+') as fp:\n",
        "  for i in range(len(epoch_list)):\n",
        "    fp.write(\"%s %s %s\\n\" % (epoch_list[i], loss_history[i], valid_loss_history[i]))\n",
        "\n",
        "print('loss history', loss_history)\n",
        "plt.xlabel('Epoch')\n",
        "plt.ylabel('Loss')\n",
        "plt.legend()"
      ]
    },
    {
      "cell_type": "markdown",
      "source": [
        "# 2. Freeze the 2 last LightGCNConv layers and train on Toronto\n",
        "\n"
      ],
      "metadata": {
        "id": "kMdFsIZCR71x"
      }
    },
    {
      "cell_type": "code",
      "source": [
        "columns_name = ['place_index', 'user_index', 'rating']\n",
        "review_df = pd.read_csv(\"/content/drive/MyDrive/cities/toronto/train.tsv\", sep=\"\\t\")[columns_name].astype(int)\n",
        "\n",
        "max_user_id = review_df['user_index'].max()\n",
        "max_place_id = review_df['place_index'].max()\n",
        "print(max_user_id)\n",
        "print(max_place_id)\n",
        "\n",
        "max_node_id = max_user_id + max_place_id + 1  # since place_id starts from 0\n",
        "print(max_node_id)\n",
        "\n",
        "# It is possible some users or restaurants in test do not exist in\n",
        "# train after this split.\n",
        "# Will need to retrain the model with combined train+test after picking\n",
        "# the best model structure\n",
        "train, test = train_test_split(review_df.values, test_size=0.1)\n",
        "train_df = pd.DataFrame(train, columns=review_df.columns)\n",
        "test_df = pd.DataFrame(test, columns=review_df.columns)\n",
        "\n",
        "\n",
        "# Weights will be used to normalize loss function\n",
        "def get_weights(df):\n",
        "    rating_counts = np.array([len(df[df['rating'] == i]) for i in [1, 2, 3, 4, 5]])\n",
        "    inverse_count = 1 / rating_counts\n",
        "    norm = np.linalg.norm(inverse_count)\n",
        "    normalized_inverse_count = inverse_count / norm\n",
        "\n",
        "    return normalized_inverse_count\n",
        "\n",
        "\n",
        "weights = get_weights(train_df)\n",
        "print(weights)\n",
        "\n",
        "train_df['weight'] = train_df['rating'].map(lambda val: weights[int(val) - 1])\n",
        "test_df['weight'] = test_df['rating'].map(lambda val: weights[int(val) - 1])\n",
        "\n",
        "# Check data snippet\n",
        "train_df.head(5)\n",
        "\n",
        "u_t = torch.LongTensor(train_df.user_index.to_numpy())\n",
        "p_t = torch.LongTensor(train_df.place_index.to_numpy()) + max_user_id + 1\n",
        "\n",
        "train_edge_index = torch.stack((torch.cat([u_t, p_t]), torch.cat([p_t, u_t]))).to(device)\n",
        "print('train_edge_index la', train_edge_index.shape)\n",
        "\n",
        "train_df['place_index'] = train_df['place_index'] + max_user_id + 1\n",
        "test_df['place_index'] = test_df['place_index'] + max_user_id + 1\n",
        "# assert that there's no index overlapping\n",
        "intersection = set(train_df['place_index'].unique()).intersection(set(train_df['user_index'].unique()))\n",
        "assert len(intersection) == 0\n",
        "\n",
        "intersection = set(test_df['place_index'].unique()).intersection(set(test_df['user_index'].unique()))\n",
        "assert len(intersection) == 0\n",
        "\n",
        "train_dataset = MyDataset(train_df)\n",
        "test_dataset = MyDataset(test_df)\n",
        "\n",
        "latent_dim = 64\n",
        "n_layers = 10\n",
        "\n",
        "EPOCHS = 5\n",
        "BATCH_SIZE = 100\n",
        "DECAY = 0.0001\n",
        "LR = 0.0005\n",
        "K = 2\n",
        "\n",
        "\n",
        "def get_testset_loss(model, testset, loss_fn, embeddings):\n",
        "    loss_list = []\n",
        "    model.eval()\n",
        "    with torch.no_grad():\n",
        "        for items, users, ratings, weights in DataLoader(testset, batch_size=BATCH_SIZE):\n",
        "            users, items, ratings, weights = users.to(device), items.to(device), ratings.to(device), weights.to(device)\n",
        "            pred = model.pred(users, items, embeddings)\n",
        "            loss = loss_fn(pred, ratings, weights)\n",
        "\n",
        "            loss_list.append(loss.item())\n",
        "\n",
        "    return sum(loss_list) / len(loss_list)\n",
        "\n",
        "\n",
        "def train(model, optimizer, train_dataset, test_dataset, train_edge_index, loss_fn, freezed_layers):\n",
        "    loss_list_epoch = []\n",
        "    valid_loss_list_epoch = []\n",
        "    train_dataloader = DataLoader(train_dataset, batch_size=BATCH_SIZE)\n",
        "    min_valid_loss = None\n",
        "    min_loss_model = None\n",
        "    for epoch in tqdm(range(EPOCHS)):\n",
        "        n_batch = int(len(train_dataset) / BATCH_SIZE)\n",
        "        loss_list = []\n",
        "        model.train()\n",
        "        for items, users, ratings, weights in tqdm(train_dataloader):\n",
        "            optimizer.zero_grad()\n",
        "            users, items, ratings, weights = users.to(device), items.to(device), ratings.to(device), weights.to(device)\n",
        "            _, embeddings = model(train_edge_index, freezed_layers)\n",
        "            pred = model.pred(users, items, embeddings)\n",
        "            loss = loss_fn(pred, ratings, weights)\n",
        "            loss.backward()\n",
        "            optimizer.step()\n",
        "            loss_list.append(loss.item())\n",
        "\n",
        "        # evaluate on validation data\n",
        "        valid_loss = get_testset_loss(model, test_dataset, loss_fn, embeddings)\n",
        "        if min_valid_loss is None or valid_loss < min_valid_loss:\n",
        "            min_valid_loss = valid_loss\n",
        "            min_loss_model = torch.save(model.state_dict(), f\"epoch_{epoch}.ckpt\")\n",
        "\n",
        "        valid_loss_list_epoch.append(round(valid_loss, 4))\n",
        "        loss_list_epoch.append(round(np.mean(loss_list), 4))\n",
        "\n",
        "    return loss_list_epoch, valid_loss_list_epoch\n",
        "\n",
        "\n",
        "# Calculate weights of different labels and define weighted MSE loss\n",
        "def weighted_MSE(preds, targets, weights):\n",
        "    return (weights * (preds - targets) ** 2).mean()\n",
        "\n",
        "\n",
        "loss_function = weighted_MSE\n",
        "optimizer = torch.optim.Adam(lightgcn.parameters(), lr=LR)\n",
        "\n",
        "loss_history, valid_loss_history = train(lightgcn, optimizer, train_dataset, test_dataset, train_edge_index,\n",
        "                                         loss_function, freezed_layers=[True, True, True, True, True, True, True, True, False, False])\n",
        "\n",
        "epoch_list = [(i+1) for i in range(EPOCHS)]\n",
        "\n",
        "plt.plot(epoch_list, loss_history, label='Training Loss')\n",
        "plt.plot(epoch_list, valid_loss_history, label='Validation Loss')\n",
        "with open('/content/drive/MyDrive/CS330_Project/cs330_light_gcn_V5_Toronto_lr=0.0005_lf+.txt', 'a+') as fp:\n",
        "  for i in range(len(epoch_list)):\n",
        "    fp.write(\"%s %s %s\\n\" % (epoch_list[i], loss_history[i], valid_loss_history[i]))\n",
        "\n",
        "print('loss history', loss_history)\n",
        "plt.xlabel('Epoch')\n",
        "plt.ylabel('Loss')\n",
        "plt.legend()"
      ],
      "metadata": {
        "id": "mvcolFg_2GwP"
      },
      "execution_count": null,
      "outputs": []
    },
    {
      "cell_type": "markdown",
      "source": [
        "# 3. Freeze the 2 last LightGCNConv layers and train on Austin\n",
        "\n",
        "Important: Added pandas dropna(), please check if it changes the output!"
      ],
      "metadata": {
        "id": "74ndy0W61ZRQ"
      }
    },
    {
      "cell_type": "code",
      "source": [
        "columns_name = ['place_index', 'user_index', 'rating']\n",
        "review_df = pd.read_csv(\"/content/drive/MyDrive/cities/Austin/train.tsv\", sep=\"\\t\")[columns_name].dropna().astype(int) # dropna()!!!\n",
        "\n",
        "# review_df.to_csv(\"/content/drive/MyDrive/cities/Seattle/review_df.csv\")\n",
        "\n",
        "max_user_id = review_df['user_index'].max()\n",
        "max_place_id = review_df['place_index'].max()\n",
        "print(max_user_id)\n",
        "print(max_place_id)\n",
        "\n",
        "max_node_id = max_user_id + max_place_id + 1  # since place_id starts from 0\n",
        "print(max_node_id)\n",
        "\n",
        "# It is possible some users or restaurants in test do not exist in\n",
        "# train after this split.\n",
        "# Will need to retrain the model with combined train+test after picking\n",
        "# the best model structure\n",
        "train, test = train_test_split(review_df.values, test_size=0.1)\n",
        "train_df = pd.DataFrame(train, columns=review_df.columns)\n",
        "test_df = pd.DataFrame(test, columns=review_df.columns)\n",
        "\n",
        "\n",
        "# Weights will be used to normalize loss function\n",
        "def get_weights(df):\n",
        "    rating_counts = np.array([len(df[df['rating'] == i]) for i in [1, 2, 3, 4, 5]])\n",
        "    inverse_count = 1 / rating_counts\n",
        "    norm = np.linalg.norm(inverse_count)\n",
        "    normalized_inverse_count = inverse_count / norm\n",
        "\n",
        "    return normalized_inverse_count\n",
        "\n",
        "\n",
        "weights = get_weights(train_df)\n",
        "print(weights)\n",
        "\n",
        "train_df['weight'] = train_df['rating'].map(lambda val: weights[int(val) - 1])\n",
        "test_df['weight'] = test_df['rating'].map(lambda val: weights[int(val) - 1])\n",
        "\n",
        "# Check data snippet\n",
        "train_df.head(5)\n",
        "\n",
        "u_t = torch.LongTensor(train_df.user_index.to_numpy())\n",
        "p_t = torch.LongTensor(train_df.place_index.to_numpy()) + max_user_id + 1\n",
        "\n",
        "train_edge_index = torch.stack((torch.cat([u_t, p_t]), torch.cat([p_t, u_t]))).to(device)\n",
        "print('train_edge_index la', train_edge_index.shape)\n",
        "\n",
        "train_df['place_index'] = train_df['place_index'] + max_user_id + 1\n",
        "test_df['place_index'] = test_df['place_index'] + max_user_id + 1\n",
        "# assert that there's no index overlapping\n",
        "intersection = set(train_df['place_index'].unique()).intersection(set(train_df['user_index'].unique()))\n",
        "assert len(intersection) == 0\n",
        "\n",
        "intersection = set(test_df['place_index'].unique()).intersection(set(test_df['user_index'].unique()))\n",
        "assert len(intersection) == 0\n",
        "\n",
        "train_dataset = MyDataset(train_df)\n",
        "test_dataset = MyDataset(test_df)\n",
        "\n",
        "latent_dim = 64\n",
        "n_layers = 10\n",
        "\n",
        "EPOCHS = 5\n",
        "BATCH_SIZE = 100\n",
        "DECAY = 0.0001\n",
        "LR = 0.0005\n",
        "K = 2\n",
        "\n",
        "\n",
        "def get_testset_loss(model, testset, loss_fn, embeddings):\n",
        "    loss_list = []\n",
        "    model.eval()\n",
        "    with torch.no_grad():\n",
        "        for items, users, ratings, weights in DataLoader(testset, batch_size=BATCH_SIZE):\n",
        "            users, items, ratings, weights = users.to(device), items.to(device), ratings.to(device), weights.to(device)\n",
        "            pred = model.pred(users, items, embeddings)\n",
        "            loss = loss_fn(pred, ratings, weights)\n",
        "\n",
        "            loss_list.append(loss.item())\n",
        "\n",
        "    return sum(loss_list) / len(loss_list)\n",
        "\n",
        "\n",
        "def train(model, optimizer, train_dataset, test_dataset, train_edge_index, loss_fn, freezed_layers):\n",
        "    loss_list_epoch = []\n",
        "    valid_loss_list_epoch = []\n",
        "    train_dataloader = DataLoader(train_dataset, batch_size=BATCH_SIZE)\n",
        "    min_valid_loss = None\n",
        "    min_loss_model = None\n",
        "    for epoch in tqdm(range(EPOCHS)):\n",
        "        n_batch = int(len(train_dataset) / BATCH_SIZE)\n",
        "        loss_list = []\n",
        "        model.train()\n",
        "        for items, users, ratings, weights in tqdm(train_dataloader):\n",
        "            optimizer.zero_grad()\n",
        "            users, items, ratings, weights = users.to(device), items.to(device), ratings.to(device), weights.to(device)\n",
        "            _, embeddings = model(train_edge_index, freezed_layers)\n",
        "            pred = model.pred(users, items, embeddings)\n",
        "            loss = loss_fn(pred, ratings, weights)\n",
        "            loss.backward()\n",
        "            optimizer.step()\n",
        "            loss_list.append(loss.item())\n",
        "\n",
        "        # evaluate on validation data\n",
        "        valid_loss = get_testset_loss(model, test_dataset, loss_fn, embeddings)\n",
        "        if min_valid_loss is None or valid_loss < min_valid_loss:\n",
        "            min_valid_loss = valid_loss\n",
        "            min_loss_model = torch.save(model.state_dict(), f\"epoch_{epoch}.ckpt\")\n",
        "\n",
        "        valid_loss_list_epoch.append(round(valid_loss, 4))\n",
        "        loss_list_epoch.append(round(np.mean(loss_list), 4))\n",
        "\n",
        "    return loss_list_epoch, valid_loss_list_epoch\n",
        "\n",
        "\n",
        "# Calculate weights of different labels and define weighted MSE loss\n",
        "def weighted_MSE(preds, targets, weights):\n",
        "    return (weights * (preds - targets) ** 2).mean()\n",
        "\n",
        "\n",
        "loss_function = weighted_MSE\n",
        "optimizer = torch.optim.Adam(lightgcn.parameters(), lr=LR)\n",
        "\n",
        "loss_history, valid_loss_history = train(lightgcn, optimizer, train_dataset, test_dataset, train_edge_index,\n",
        "                                         loss_function, freezed_layers=[True, True, True, True, True, True, True, True, False, False])\n",
        "\n",
        "epoch_list = [(i + 1) for i in range(EPOCHS)]\n",
        "\n",
        "plt.plot(epoch_list, loss_history, label='Training Loss')\n",
        "plt.plot(epoch_list, valid_loss_history, label='Validation Loss')\n",
        "with open('/content/drive/MyDrive/CS330_Project/cs330_light_gcn_V5_Austin_lr=0.0005_lf_10L_ttttttttff.txt', 'a+') as fp:\n",
        "    for i in range(len(epoch_list)):\n",
        "        fp.write(\"%s %s %s\\n\" % (epoch_list[i], loss_history[i], valid_loss_history[i]))\n",
        "\n",
        "print('loss history', loss_history)\n",
        "print('valid loss history', valid_loss_history)\n",
        "plt.xlabel('Epoch')\n",
        "plt.ylabel('Loss')\n",
        "plt.legend()"
      ],
      "metadata": {
        "id": "s5jaV6dG2PeS"
      },
      "execution_count": null,
      "outputs": []
    }
  ],
  "metadata": {
    "colab": {
      "provenance": [],
      "machine_shape": "hm"
    },
    "kernelspec": {
      "display_name": "Python 3",
      "name": "python3"
    },
    "language_info": {
      "name": "python"
    },
    "gpuClass": "premium",
    "accelerator": "GPU",
    "widgets": {
      "application/vnd.jupyter.widget-state+json": {
        "841b03bea15a4cb68b704cc350eeaee9": {
          "model_module": "@jupyter-widgets/controls",
          "model_name": "HBoxModel",
          "model_module_version": "1.5.0",
          "state": {
            "_dom_classes": [],
            "_model_module": "@jupyter-widgets/controls",
            "_model_module_version": "1.5.0",
            "_model_name": "HBoxModel",
            "_view_count": null,
            "_view_module": "@jupyter-widgets/controls",
            "_view_module_version": "1.5.0",
            "_view_name": "HBoxView",
            "box_style": "",
            "children": [
              "IPY_MODEL_60863e4799ab44019ad5cea01b0784c3",
              "IPY_MODEL_ebbd7923a3334738a4bdf21022922f2b",
              "IPY_MODEL_ce8d05667641472488abfb94618bcd1c"
            ],
            "layout": "IPY_MODEL_fe1b25d653614c40ae1d9bc80d308a2a"
          }
        },
        "60863e4799ab44019ad5cea01b0784c3": {
          "model_module": "@jupyter-widgets/controls",
          "model_name": "HTMLModel",
          "model_module_version": "1.5.0",
          "state": {
            "_dom_classes": [],
            "_model_module": "@jupyter-widgets/controls",
            "_model_module_version": "1.5.0",
            "_model_name": "HTMLModel",
            "_view_count": null,
            "_view_module": "@jupyter-widgets/controls",
            "_view_module_version": "1.5.0",
            "_view_name": "HTMLView",
            "description": "",
            "description_tooltip": null,
            "layout": "IPY_MODEL_cad1dcbf426a441eb14dd58684e2da1e",
            "placeholder": "​",
            "style": "IPY_MODEL_bbb3a58e36de4632ae70985b27274c88",
            "value": " 20%"
          }
        },
        "ebbd7923a3334738a4bdf21022922f2b": {
          "model_module": "@jupyter-widgets/controls",
          "model_name": "FloatProgressModel",
          "model_module_version": "1.5.0",
          "state": {
            "_dom_classes": [],
            "_model_module": "@jupyter-widgets/controls",
            "_model_module_version": "1.5.0",
            "_model_name": "FloatProgressModel",
            "_view_count": null,
            "_view_module": "@jupyter-widgets/controls",
            "_view_module_version": "1.5.0",
            "_view_name": "ProgressView",
            "bar_style": "",
            "description": "",
            "description_tooltip": null,
            "layout": "IPY_MODEL_a25119edc3a646c28fb90e5d08b530aa",
            "max": 5,
            "min": 0,
            "orientation": "horizontal",
            "style": "IPY_MODEL_9a1eed7c78e54719b80048356ae4b676",
            "value": 1
          }
        },
        "ce8d05667641472488abfb94618bcd1c": {
          "model_module": "@jupyter-widgets/controls",
          "model_name": "HTMLModel",
          "model_module_version": "1.5.0",
          "state": {
            "_dom_classes": [],
            "_model_module": "@jupyter-widgets/controls",
            "_model_module_version": "1.5.0",
            "_model_name": "HTMLModel",
            "_view_count": null,
            "_view_module": "@jupyter-widgets/controls",
            "_view_module_version": "1.5.0",
            "_view_name": "HTMLView",
            "description": "",
            "description_tooltip": null,
            "layout": "IPY_MODEL_338d948b82b44afb95da37eb9ca1ea19",
            "placeholder": "​",
            "style": "IPY_MODEL_422ac181476b4e729088353603ded84d",
            "value": " 1/5 [16:40&lt;1:06:41, 1000.47s/it]"
          }
        },
        "fe1b25d653614c40ae1d9bc80d308a2a": {
          "model_module": "@jupyter-widgets/base",
          "model_name": "LayoutModel",
          "model_module_version": "1.2.0",
          "state": {
            "_model_module": "@jupyter-widgets/base",
            "_model_module_version": "1.2.0",
            "_model_name": "LayoutModel",
            "_view_count": null,
            "_view_module": "@jupyter-widgets/base",
            "_view_module_version": "1.2.0",
            "_view_name": "LayoutView",
            "align_content": null,
            "align_items": null,
            "align_self": null,
            "border": null,
            "bottom": null,
            "display": null,
            "flex": null,
            "flex_flow": null,
            "grid_area": null,
            "grid_auto_columns": null,
            "grid_auto_flow": null,
            "grid_auto_rows": null,
            "grid_column": null,
            "grid_gap": null,
            "grid_row": null,
            "grid_template_areas": null,
            "grid_template_columns": null,
            "grid_template_rows": null,
            "height": null,
            "justify_content": null,
            "justify_items": null,
            "left": null,
            "margin": null,
            "max_height": null,
            "max_width": null,
            "min_height": null,
            "min_width": null,
            "object_fit": null,
            "object_position": null,
            "order": null,
            "overflow": null,
            "overflow_x": null,
            "overflow_y": null,
            "padding": null,
            "right": null,
            "top": null,
            "visibility": null,
            "width": null
          }
        },
        "cad1dcbf426a441eb14dd58684e2da1e": {
          "model_module": "@jupyter-widgets/base",
          "model_name": "LayoutModel",
          "model_module_version": "1.2.0",
          "state": {
            "_model_module": "@jupyter-widgets/base",
            "_model_module_version": "1.2.0",
            "_model_name": "LayoutModel",
            "_view_count": null,
            "_view_module": "@jupyter-widgets/base",
            "_view_module_version": "1.2.0",
            "_view_name": "LayoutView",
            "align_content": null,
            "align_items": null,
            "align_self": null,
            "border": null,
            "bottom": null,
            "display": null,
            "flex": null,
            "flex_flow": null,
            "grid_area": null,
            "grid_auto_columns": null,
            "grid_auto_flow": null,
            "grid_auto_rows": null,
            "grid_column": null,
            "grid_gap": null,
            "grid_row": null,
            "grid_template_areas": null,
            "grid_template_columns": null,
            "grid_template_rows": null,
            "height": null,
            "justify_content": null,
            "justify_items": null,
            "left": null,
            "margin": null,
            "max_height": null,
            "max_width": null,
            "min_height": null,
            "min_width": null,
            "object_fit": null,
            "object_position": null,
            "order": null,
            "overflow": null,
            "overflow_x": null,
            "overflow_y": null,
            "padding": null,
            "right": null,
            "top": null,
            "visibility": null,
            "width": null
          }
        },
        "bbb3a58e36de4632ae70985b27274c88": {
          "model_module": "@jupyter-widgets/controls",
          "model_name": "DescriptionStyleModel",
          "model_module_version": "1.5.0",
          "state": {
            "_model_module": "@jupyter-widgets/controls",
            "_model_module_version": "1.5.0",
            "_model_name": "DescriptionStyleModel",
            "_view_count": null,
            "_view_module": "@jupyter-widgets/base",
            "_view_module_version": "1.2.0",
            "_view_name": "StyleView",
            "description_width": ""
          }
        },
        "a25119edc3a646c28fb90e5d08b530aa": {
          "model_module": "@jupyter-widgets/base",
          "model_name": "LayoutModel",
          "model_module_version": "1.2.0",
          "state": {
            "_model_module": "@jupyter-widgets/base",
            "_model_module_version": "1.2.0",
            "_model_name": "LayoutModel",
            "_view_count": null,
            "_view_module": "@jupyter-widgets/base",
            "_view_module_version": "1.2.0",
            "_view_name": "LayoutView",
            "align_content": null,
            "align_items": null,
            "align_self": null,
            "border": null,
            "bottom": null,
            "display": null,
            "flex": null,
            "flex_flow": null,
            "grid_area": null,
            "grid_auto_columns": null,
            "grid_auto_flow": null,
            "grid_auto_rows": null,
            "grid_column": null,
            "grid_gap": null,
            "grid_row": null,
            "grid_template_areas": null,
            "grid_template_columns": null,
            "grid_template_rows": null,
            "height": null,
            "justify_content": null,
            "justify_items": null,
            "left": null,
            "margin": null,
            "max_height": null,
            "max_width": null,
            "min_height": null,
            "min_width": null,
            "object_fit": null,
            "object_position": null,
            "order": null,
            "overflow": null,
            "overflow_x": null,
            "overflow_y": null,
            "padding": null,
            "right": null,
            "top": null,
            "visibility": null,
            "width": null
          }
        },
        "9a1eed7c78e54719b80048356ae4b676": {
          "model_module": "@jupyter-widgets/controls",
          "model_name": "ProgressStyleModel",
          "model_module_version": "1.5.0",
          "state": {
            "_model_module": "@jupyter-widgets/controls",
            "_model_module_version": "1.5.0",
            "_model_name": "ProgressStyleModel",
            "_view_count": null,
            "_view_module": "@jupyter-widgets/base",
            "_view_module_version": "1.2.0",
            "_view_name": "StyleView",
            "bar_color": null,
            "description_width": ""
          }
        },
        "338d948b82b44afb95da37eb9ca1ea19": {
          "model_module": "@jupyter-widgets/base",
          "model_name": "LayoutModel",
          "model_module_version": "1.2.0",
          "state": {
            "_model_module": "@jupyter-widgets/base",
            "_model_module_version": "1.2.0",
            "_model_name": "LayoutModel",
            "_view_count": null,
            "_view_module": "@jupyter-widgets/base",
            "_view_module_version": "1.2.0",
            "_view_name": "LayoutView",
            "align_content": null,
            "align_items": null,
            "align_self": null,
            "border": null,
            "bottom": null,
            "display": null,
            "flex": null,
            "flex_flow": null,
            "grid_area": null,
            "grid_auto_columns": null,
            "grid_auto_flow": null,
            "grid_auto_rows": null,
            "grid_column": null,
            "grid_gap": null,
            "grid_row": null,
            "grid_template_areas": null,
            "grid_template_columns": null,
            "grid_template_rows": null,
            "height": null,
            "justify_content": null,
            "justify_items": null,
            "left": null,
            "margin": null,
            "max_height": null,
            "max_width": null,
            "min_height": null,
            "min_width": null,
            "object_fit": null,
            "object_position": null,
            "order": null,
            "overflow": null,
            "overflow_x": null,
            "overflow_y": null,
            "padding": null,
            "right": null,
            "top": null,
            "visibility": null,
            "width": null
          }
        },
        "422ac181476b4e729088353603ded84d": {
          "model_module": "@jupyter-widgets/controls",
          "model_name": "DescriptionStyleModel",
          "model_module_version": "1.5.0",
          "state": {
            "_model_module": "@jupyter-widgets/controls",
            "_model_module_version": "1.5.0",
            "_model_name": "DescriptionStyleModel",
            "_view_count": null,
            "_view_module": "@jupyter-widgets/base",
            "_view_module_version": "1.2.0",
            "_view_name": "StyleView",
            "description_width": ""
          }
        },
        "f36101427f39476680d8fa2749c3c2dd": {
          "model_module": "@jupyter-widgets/controls",
          "model_name": "HBoxModel",
          "model_module_version": "1.5.0",
          "state": {
            "_dom_classes": [],
            "_model_module": "@jupyter-widgets/controls",
            "_model_module_version": "1.5.0",
            "_model_name": "HBoxModel",
            "_view_count": null,
            "_view_module": "@jupyter-widgets/controls",
            "_view_module_version": "1.5.0",
            "_view_name": "HBoxView",
            "box_style": "",
            "children": [
              "IPY_MODEL_afa430e154cf40ba89a45ad7eaa60186",
              "IPY_MODEL_ff5c369ff9f847e8beb452491a5419b6",
              "IPY_MODEL_eee410ca4c694e1abb9c73d2968811de"
            ],
            "layout": "IPY_MODEL_68bd5012b9804a88ba9581152b0cc1be"
          }
        },
        "afa430e154cf40ba89a45ad7eaa60186": {
          "model_module": "@jupyter-widgets/controls",
          "model_name": "HTMLModel",
          "model_module_version": "1.5.0",
          "state": {
            "_dom_classes": [],
            "_model_module": "@jupyter-widgets/controls",
            "_model_module_version": "1.5.0",
            "_model_name": "HTMLModel",
            "_view_count": null,
            "_view_module": "@jupyter-widgets/controls",
            "_view_module_version": "1.5.0",
            "_view_name": "HTMLView",
            "description": "",
            "description_tooltip": null,
            "layout": "IPY_MODEL_e3489983df464bca80e4a531f591bd7d",
            "placeholder": "​",
            "style": "IPY_MODEL_3d833b9519284d829b8e97934930096a",
            "value": "100%"
          }
        },
        "ff5c369ff9f847e8beb452491a5419b6": {
          "model_module": "@jupyter-widgets/controls",
          "model_name": "FloatProgressModel",
          "model_module_version": "1.5.0",
          "state": {
            "_dom_classes": [],
            "_model_module": "@jupyter-widgets/controls",
            "_model_module_version": "1.5.0",
            "_model_name": "FloatProgressModel",
            "_view_count": null,
            "_view_module": "@jupyter-widgets/controls",
            "_view_module_version": "1.5.0",
            "_view_name": "ProgressView",
            "bar_style": "success",
            "description": "",
            "description_tooltip": null,
            "layout": "IPY_MODEL_cffd1c4d8da44623bb642dc9ee602bab",
            "max": 11663,
            "min": 0,
            "orientation": "horizontal",
            "style": "IPY_MODEL_d6a3c2050c99498eaf4f807d955a7cc4",
            "value": 11663
          }
        },
        "eee410ca4c694e1abb9c73d2968811de": {
          "model_module": "@jupyter-widgets/controls",
          "model_name": "HTMLModel",
          "model_module_version": "1.5.0",
          "state": {
            "_dom_classes": [],
            "_model_module": "@jupyter-widgets/controls",
            "_model_module_version": "1.5.0",
            "_model_name": "HTMLModel",
            "_view_count": null,
            "_view_module": "@jupyter-widgets/controls",
            "_view_module_version": "1.5.0",
            "_view_name": "HTMLView",
            "description": "",
            "description_tooltip": null,
            "layout": "IPY_MODEL_a9f8707bec994c0a83ca3ed6c808f963",
            "placeholder": "​",
            "style": "IPY_MODEL_ac9451e6eb374c0faa7bad6783410c3c",
            "value": " 11663/11663 [16:38&lt;00:00, 11.74it/s]"
          }
        },
        "68bd5012b9804a88ba9581152b0cc1be": {
          "model_module": "@jupyter-widgets/base",
          "model_name": "LayoutModel",
          "model_module_version": "1.2.0",
          "state": {
            "_model_module": "@jupyter-widgets/base",
            "_model_module_version": "1.2.0",
            "_model_name": "LayoutModel",
            "_view_count": null,
            "_view_module": "@jupyter-widgets/base",
            "_view_module_version": "1.2.0",
            "_view_name": "LayoutView",
            "align_content": null,
            "align_items": null,
            "align_self": null,
            "border": null,
            "bottom": null,
            "display": null,
            "flex": null,
            "flex_flow": null,
            "grid_area": null,
            "grid_auto_columns": null,
            "grid_auto_flow": null,
            "grid_auto_rows": null,
            "grid_column": null,
            "grid_gap": null,
            "grid_row": null,
            "grid_template_areas": null,
            "grid_template_columns": null,
            "grid_template_rows": null,
            "height": null,
            "justify_content": null,
            "justify_items": null,
            "left": null,
            "margin": null,
            "max_height": null,
            "max_width": null,
            "min_height": null,
            "min_width": null,
            "object_fit": null,
            "object_position": null,
            "order": null,
            "overflow": null,
            "overflow_x": null,
            "overflow_y": null,
            "padding": null,
            "right": null,
            "top": null,
            "visibility": null,
            "width": null
          }
        },
        "e3489983df464bca80e4a531f591bd7d": {
          "model_module": "@jupyter-widgets/base",
          "model_name": "LayoutModel",
          "model_module_version": "1.2.0",
          "state": {
            "_model_module": "@jupyter-widgets/base",
            "_model_module_version": "1.2.0",
            "_model_name": "LayoutModel",
            "_view_count": null,
            "_view_module": "@jupyter-widgets/base",
            "_view_module_version": "1.2.0",
            "_view_name": "LayoutView",
            "align_content": null,
            "align_items": null,
            "align_self": null,
            "border": null,
            "bottom": null,
            "display": null,
            "flex": null,
            "flex_flow": null,
            "grid_area": null,
            "grid_auto_columns": null,
            "grid_auto_flow": null,
            "grid_auto_rows": null,
            "grid_column": null,
            "grid_gap": null,
            "grid_row": null,
            "grid_template_areas": null,
            "grid_template_columns": null,
            "grid_template_rows": null,
            "height": null,
            "justify_content": null,
            "justify_items": null,
            "left": null,
            "margin": null,
            "max_height": null,
            "max_width": null,
            "min_height": null,
            "min_width": null,
            "object_fit": null,
            "object_position": null,
            "order": null,
            "overflow": null,
            "overflow_x": null,
            "overflow_y": null,
            "padding": null,
            "right": null,
            "top": null,
            "visibility": null,
            "width": null
          }
        },
        "3d833b9519284d829b8e97934930096a": {
          "model_module": "@jupyter-widgets/controls",
          "model_name": "DescriptionStyleModel",
          "model_module_version": "1.5.0",
          "state": {
            "_model_module": "@jupyter-widgets/controls",
            "_model_module_version": "1.5.0",
            "_model_name": "DescriptionStyleModel",
            "_view_count": null,
            "_view_module": "@jupyter-widgets/base",
            "_view_module_version": "1.2.0",
            "_view_name": "StyleView",
            "description_width": ""
          }
        },
        "cffd1c4d8da44623bb642dc9ee602bab": {
          "model_module": "@jupyter-widgets/base",
          "model_name": "LayoutModel",
          "model_module_version": "1.2.0",
          "state": {
            "_model_module": "@jupyter-widgets/base",
            "_model_module_version": "1.2.0",
            "_model_name": "LayoutModel",
            "_view_count": null,
            "_view_module": "@jupyter-widgets/base",
            "_view_module_version": "1.2.0",
            "_view_name": "LayoutView",
            "align_content": null,
            "align_items": null,
            "align_self": null,
            "border": null,
            "bottom": null,
            "display": null,
            "flex": null,
            "flex_flow": null,
            "grid_area": null,
            "grid_auto_columns": null,
            "grid_auto_flow": null,
            "grid_auto_rows": null,
            "grid_column": null,
            "grid_gap": null,
            "grid_row": null,
            "grid_template_areas": null,
            "grid_template_columns": null,
            "grid_template_rows": null,
            "height": null,
            "justify_content": null,
            "justify_items": null,
            "left": null,
            "margin": null,
            "max_height": null,
            "max_width": null,
            "min_height": null,
            "min_width": null,
            "object_fit": null,
            "object_position": null,
            "order": null,
            "overflow": null,
            "overflow_x": null,
            "overflow_y": null,
            "padding": null,
            "right": null,
            "top": null,
            "visibility": null,
            "width": null
          }
        },
        "d6a3c2050c99498eaf4f807d955a7cc4": {
          "model_module": "@jupyter-widgets/controls",
          "model_name": "ProgressStyleModel",
          "model_module_version": "1.5.0",
          "state": {
            "_model_module": "@jupyter-widgets/controls",
            "_model_module_version": "1.5.0",
            "_model_name": "ProgressStyleModel",
            "_view_count": null,
            "_view_module": "@jupyter-widgets/base",
            "_view_module_version": "1.2.0",
            "_view_name": "StyleView",
            "bar_color": null,
            "description_width": ""
          }
        },
        "a9f8707bec994c0a83ca3ed6c808f963": {
          "model_module": "@jupyter-widgets/base",
          "model_name": "LayoutModel",
          "model_module_version": "1.2.0",
          "state": {
            "_model_module": "@jupyter-widgets/base",
            "_model_module_version": "1.2.0",
            "_model_name": "LayoutModel",
            "_view_count": null,
            "_view_module": "@jupyter-widgets/base",
            "_view_module_version": "1.2.0",
            "_view_name": "LayoutView",
            "align_content": null,
            "align_items": null,
            "align_self": null,
            "border": null,
            "bottom": null,
            "display": null,
            "flex": null,
            "flex_flow": null,
            "grid_area": null,
            "grid_auto_columns": null,
            "grid_auto_flow": null,
            "grid_auto_rows": null,
            "grid_column": null,
            "grid_gap": null,
            "grid_row": null,
            "grid_template_areas": null,
            "grid_template_columns": null,
            "grid_template_rows": null,
            "height": null,
            "justify_content": null,
            "justify_items": null,
            "left": null,
            "margin": null,
            "max_height": null,
            "max_width": null,
            "min_height": null,
            "min_width": null,
            "object_fit": null,
            "object_position": null,
            "order": null,
            "overflow": null,
            "overflow_x": null,
            "overflow_y": null,
            "padding": null,
            "right": null,
            "top": null,
            "visibility": null,
            "width": null
          }
        },
        "ac9451e6eb374c0faa7bad6783410c3c": {
          "model_module": "@jupyter-widgets/controls",
          "model_name": "DescriptionStyleModel",
          "model_module_version": "1.5.0",
          "state": {
            "_model_module": "@jupyter-widgets/controls",
            "_model_module_version": "1.5.0",
            "_model_name": "DescriptionStyleModel",
            "_view_count": null,
            "_view_module": "@jupyter-widgets/base",
            "_view_module_version": "1.2.0",
            "_view_name": "StyleView",
            "description_width": ""
          }
        },
        "befdceb23a8444cda1bbca8f4255d5c6": {
          "model_module": "@jupyter-widgets/controls",
          "model_name": "HBoxModel",
          "model_module_version": "1.5.0",
          "state": {
            "_dom_classes": [],
            "_model_module": "@jupyter-widgets/controls",
            "_model_module_version": "1.5.0",
            "_model_name": "HBoxModel",
            "_view_count": null,
            "_view_module": "@jupyter-widgets/controls",
            "_view_module_version": "1.5.0",
            "_view_name": "HBoxView",
            "box_style": "",
            "children": [
              "IPY_MODEL_26b2e298738a409cb017096c41ccb6c5",
              "IPY_MODEL_d225815dd7b44c0eab2694d008d28067",
              "IPY_MODEL_ca9251942fc446baa34ae07734aa9562"
            ],
            "layout": "IPY_MODEL_20f8a913decf4f3394b429bcb99edc23"
          }
        },
        "26b2e298738a409cb017096c41ccb6c5": {
          "model_module": "@jupyter-widgets/controls",
          "model_name": "HTMLModel",
          "model_module_version": "1.5.0",
          "state": {
            "_dom_classes": [],
            "_model_module": "@jupyter-widgets/controls",
            "_model_module_version": "1.5.0",
            "_model_name": "HTMLModel",
            "_view_count": null,
            "_view_module": "@jupyter-widgets/controls",
            "_view_module_version": "1.5.0",
            "_view_name": "HTMLView",
            "description": "",
            "description_tooltip": null,
            "layout": "IPY_MODEL_a3203309d6534ff08c6b8c0a832d53ca",
            "placeholder": "​",
            "style": "IPY_MODEL_795d3be3a88148cab773c270b5af3b09",
            "value": " 88%"
          }
        },
        "d225815dd7b44c0eab2694d008d28067": {
          "model_module": "@jupyter-widgets/controls",
          "model_name": "FloatProgressModel",
          "model_module_version": "1.5.0",
          "state": {
            "_dom_classes": [],
            "_model_module": "@jupyter-widgets/controls",
            "_model_module_version": "1.5.0",
            "_model_name": "FloatProgressModel",
            "_view_count": null,
            "_view_module": "@jupyter-widgets/controls",
            "_view_module_version": "1.5.0",
            "_view_name": "ProgressView",
            "bar_style": "",
            "description": "",
            "description_tooltip": null,
            "layout": "IPY_MODEL_48b673ed98324664ad062f4f28f4ddad",
            "max": 11663,
            "min": 0,
            "orientation": "horizontal",
            "style": "IPY_MODEL_50dd7f3ea59043ae86aa85b3d9ca90fe",
            "value": 10251
          }
        },
        "ca9251942fc446baa34ae07734aa9562": {
          "model_module": "@jupyter-widgets/controls",
          "model_name": "HTMLModel",
          "model_module_version": "1.5.0",
          "state": {
            "_dom_classes": [],
            "_model_module": "@jupyter-widgets/controls",
            "_model_module_version": "1.5.0",
            "_model_name": "HTMLModel",
            "_view_count": null,
            "_view_module": "@jupyter-widgets/controls",
            "_view_module_version": "1.5.0",
            "_view_name": "HTMLView",
            "description": "",
            "description_tooltip": null,
            "layout": "IPY_MODEL_779d90e8bdf54de3aac3dbedec09a8e8",
            "placeholder": "​",
            "style": "IPY_MODEL_74829a69f6de4793867bdb74e6073adf",
            "value": " 10251/11663 [14:35&lt;02:00, 11.70it/s]"
          }
        },
        "20f8a913decf4f3394b429bcb99edc23": {
          "model_module": "@jupyter-widgets/base",
          "model_name": "LayoutModel",
          "model_module_version": "1.2.0",
          "state": {
            "_model_module": "@jupyter-widgets/base",
            "_model_module_version": "1.2.0",
            "_model_name": "LayoutModel",
            "_view_count": null,
            "_view_module": "@jupyter-widgets/base",
            "_view_module_version": "1.2.0",
            "_view_name": "LayoutView",
            "align_content": null,
            "align_items": null,
            "align_self": null,
            "border": null,
            "bottom": null,
            "display": null,
            "flex": null,
            "flex_flow": null,
            "grid_area": null,
            "grid_auto_columns": null,
            "grid_auto_flow": null,
            "grid_auto_rows": null,
            "grid_column": null,
            "grid_gap": null,
            "grid_row": null,
            "grid_template_areas": null,
            "grid_template_columns": null,
            "grid_template_rows": null,
            "height": null,
            "justify_content": null,
            "justify_items": null,
            "left": null,
            "margin": null,
            "max_height": null,
            "max_width": null,
            "min_height": null,
            "min_width": null,
            "object_fit": null,
            "object_position": null,
            "order": null,
            "overflow": null,
            "overflow_x": null,
            "overflow_y": null,
            "padding": null,
            "right": null,
            "top": null,
            "visibility": null,
            "width": null
          }
        },
        "a3203309d6534ff08c6b8c0a832d53ca": {
          "model_module": "@jupyter-widgets/base",
          "model_name": "LayoutModel",
          "model_module_version": "1.2.0",
          "state": {
            "_model_module": "@jupyter-widgets/base",
            "_model_module_version": "1.2.0",
            "_model_name": "LayoutModel",
            "_view_count": null,
            "_view_module": "@jupyter-widgets/base",
            "_view_module_version": "1.2.0",
            "_view_name": "LayoutView",
            "align_content": null,
            "align_items": null,
            "align_self": null,
            "border": null,
            "bottom": null,
            "display": null,
            "flex": null,
            "flex_flow": null,
            "grid_area": null,
            "grid_auto_columns": null,
            "grid_auto_flow": null,
            "grid_auto_rows": null,
            "grid_column": null,
            "grid_gap": null,
            "grid_row": null,
            "grid_template_areas": null,
            "grid_template_columns": null,
            "grid_template_rows": null,
            "height": null,
            "justify_content": null,
            "justify_items": null,
            "left": null,
            "margin": null,
            "max_height": null,
            "max_width": null,
            "min_height": null,
            "min_width": null,
            "object_fit": null,
            "object_position": null,
            "order": null,
            "overflow": null,
            "overflow_x": null,
            "overflow_y": null,
            "padding": null,
            "right": null,
            "top": null,
            "visibility": null,
            "width": null
          }
        },
        "795d3be3a88148cab773c270b5af3b09": {
          "model_module": "@jupyter-widgets/controls",
          "model_name": "DescriptionStyleModel",
          "model_module_version": "1.5.0",
          "state": {
            "_model_module": "@jupyter-widgets/controls",
            "_model_module_version": "1.5.0",
            "_model_name": "DescriptionStyleModel",
            "_view_count": null,
            "_view_module": "@jupyter-widgets/base",
            "_view_module_version": "1.2.0",
            "_view_name": "StyleView",
            "description_width": ""
          }
        },
        "48b673ed98324664ad062f4f28f4ddad": {
          "model_module": "@jupyter-widgets/base",
          "model_name": "LayoutModel",
          "model_module_version": "1.2.0",
          "state": {
            "_model_module": "@jupyter-widgets/base",
            "_model_module_version": "1.2.0",
            "_model_name": "LayoutModel",
            "_view_count": null,
            "_view_module": "@jupyter-widgets/base",
            "_view_module_version": "1.2.0",
            "_view_name": "LayoutView",
            "align_content": null,
            "align_items": null,
            "align_self": null,
            "border": null,
            "bottom": null,
            "display": null,
            "flex": null,
            "flex_flow": null,
            "grid_area": null,
            "grid_auto_columns": null,
            "grid_auto_flow": null,
            "grid_auto_rows": null,
            "grid_column": null,
            "grid_gap": null,
            "grid_row": null,
            "grid_template_areas": null,
            "grid_template_columns": null,
            "grid_template_rows": null,
            "height": null,
            "justify_content": null,
            "justify_items": null,
            "left": null,
            "margin": null,
            "max_height": null,
            "max_width": null,
            "min_height": null,
            "min_width": null,
            "object_fit": null,
            "object_position": null,
            "order": null,
            "overflow": null,
            "overflow_x": null,
            "overflow_y": null,
            "padding": null,
            "right": null,
            "top": null,
            "visibility": null,
            "width": null
          }
        },
        "50dd7f3ea59043ae86aa85b3d9ca90fe": {
          "model_module": "@jupyter-widgets/controls",
          "model_name": "ProgressStyleModel",
          "model_module_version": "1.5.0",
          "state": {
            "_model_module": "@jupyter-widgets/controls",
            "_model_module_version": "1.5.0",
            "_model_name": "ProgressStyleModel",
            "_view_count": null,
            "_view_module": "@jupyter-widgets/base",
            "_view_module_version": "1.2.0",
            "_view_name": "StyleView",
            "bar_color": null,
            "description_width": ""
          }
        },
        "779d90e8bdf54de3aac3dbedec09a8e8": {
          "model_module": "@jupyter-widgets/base",
          "model_name": "LayoutModel",
          "model_module_version": "1.2.0",
          "state": {
            "_model_module": "@jupyter-widgets/base",
            "_model_module_version": "1.2.0",
            "_model_name": "LayoutModel",
            "_view_count": null,
            "_view_module": "@jupyter-widgets/base",
            "_view_module_version": "1.2.0",
            "_view_name": "LayoutView",
            "align_content": null,
            "align_items": null,
            "align_self": null,
            "border": null,
            "bottom": null,
            "display": null,
            "flex": null,
            "flex_flow": null,
            "grid_area": null,
            "grid_auto_columns": null,
            "grid_auto_flow": null,
            "grid_auto_rows": null,
            "grid_column": null,
            "grid_gap": null,
            "grid_row": null,
            "grid_template_areas": null,
            "grid_template_columns": null,
            "grid_template_rows": null,
            "height": null,
            "justify_content": null,
            "justify_items": null,
            "left": null,
            "margin": null,
            "max_height": null,
            "max_width": null,
            "min_height": null,
            "min_width": null,
            "object_fit": null,
            "object_position": null,
            "order": null,
            "overflow": null,
            "overflow_x": null,
            "overflow_y": null,
            "padding": null,
            "right": null,
            "top": null,
            "visibility": null,
            "width": null
          }
        },
        "74829a69f6de4793867bdb74e6073adf": {
          "model_module": "@jupyter-widgets/controls",
          "model_name": "DescriptionStyleModel",
          "model_module_version": "1.5.0",
          "state": {
            "_model_module": "@jupyter-widgets/controls",
            "_model_module_version": "1.5.0",
            "_model_name": "DescriptionStyleModel",
            "_view_count": null,
            "_view_module": "@jupyter-widgets/base",
            "_view_module_version": "1.2.0",
            "_view_name": "StyleView",
            "description_width": ""
          }
        }
      }
    }
  },
  "nbformat": 4,
  "nbformat_minor": 0
}